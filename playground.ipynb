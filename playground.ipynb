{
 "cells": [
  {
   "cell_type": "code",
   "execution_count": 1,
   "metadata": {},
   "outputs": [
    {
     "name": "stderr",
     "output_type": "stream",
     "text": [
      "WARNING: All log messages before absl::InitializeLog() is called are written to STDERR\n",
      "I0000 00:00:1723812620.996535    5723 check_gcp_environment.cc:61] BIOS data file does not exist or cannot be opened.\n"
     ]
    }
   ],
   "source": [
    "from google.cloud import speech\n",
    "\n",
    "client = speech.SpeechClient()\n",
    "\n",
    "gcs_uri = \"gs://cloud-samples-data/speech/brooklyn_bridge.raw\"\n",
    "\n",
    "audio = speech.RecognitionAudio(uri=gcs_uri)\n",
    "\n",
    "config = speech.RecognitionConfig(\n",
    "    encoding = speech.RecognitionConfig.AudioEncoding.LINEAR16,\n",
    "    sample_rate_hertz = 16000,\n",
    "    language_code=\"en-US\",\n",
    ")\n",
    "\n",
    "response = client.recognize(config = config, audio = audio)\n",
    "\n",
    "# for result in response.results:\n",
    "#     print(\"Transcript: {}\".format(result.alternatives[0].transcript))"
   ]
  },
  {
   "cell_type": "code",
   "execution_count": 3,
   "metadata": {},
   "outputs": [
    {
     "data": {
      "text/plain": [
       "'how old is the Brooklyn Bridge'"
      ]
     },
     "execution_count": 3,
     "metadata": {},
     "output_type": "execute_result"
    }
   ],
   "source": [
    "response.results[0].alternatives[0].transcript"
   ]
  },
  {
   "cell_type": "markdown",
   "metadata": {},
   "source": [
    "## Using LangChain"
   ]
  },
  {
   "cell_type": "code",
   "execution_count": 2,
   "metadata": {},
   "outputs": [],
   "source": [
    "from langchain_core.messages import HumanMessage\n",
    "from langchain_google_genai import ChatGoogleGenerativeAI\n",
    "from google.generativeai.types.safety_types import HarmBlockThreshold, HarmCategory\n",
    "import json"
   ]
  },
  {
   "cell_type": "markdown",
   "metadata": {},
   "source": [
    "## Using VertexAI"
   ]
  },
  {
   "cell_type": "code",
   "execution_count": 1,
   "metadata": {},
   "outputs": [],
   "source": [
    "import vertexai\n",
    "from vertexai.generative_models import GenerativeModel, Part\n",
    "import json\n",
    "from google.cloud import speech"
   ]
  },
  {
   "cell_type": "code",
   "execution_count": 24,
   "metadata": {},
   "outputs": [
    {
     "name": "stdout",
     "output_type": "stream",
     "text": [
      "Transcript: how old is the Brooklyn Bridge\n",
      "Answer: text: \"The Brooklyn Bridge was completed in **1883**, so it\\'s currently **140 years old** (as of 2023). \\n\"\n",
      "\n"
     ]
    }
   ],
   "source": [
    "with open(\"environments/env.json\") as f:\n",
    "    env = json.load(f)\n",
    "\n",
    "client = speech.SpeechClient()\n",
    "gcs_uri = env[\"sample_audio_file\"]\n",
    "audio = speech.RecognitionAudio(uri=gcs_uri)\n",
    "\n",
    "config = speech.RecognitionConfig(\n",
    "    encoding = speech.RecognitionConfig.AudioEncoding.LINEAR16,\n",
    "    sample_rate_hertz = 16000,\n",
    "    language_code=\"en-US\",\n",
    ")\n",
    "\n",
    "s2t_response = client.recognize(config = config, audio = audio)\n",
    "\n",
    "vertexai.init(project = env[\"project_id\"], location=env[\"location\"])\n",
    "multimodal_model = GenerativeModel(\"gemini-1.5-flash-001\")\n",
    "for result in s2t_response.results:\n",
    "    response = multimodal_model.generate_content(\n",
    "        [\n",
    "            result.alternatives[0].transcript\n",
    "        ]\n",
    "    )\n",
    "    print(\"Transcript: {}\".format(result.alternatives[0].transcript))\n",
    "    print(\"Answer: {}\".format(response.candidates[0].content.parts[0]))"
   ]
  },
  {
   "cell_type": "code",
   "execution_count": 4,
   "metadata": {},
   "outputs": [
    {
     "name": "stderr",
     "output_type": "stream",
     "text": [
      "WARNING: All log messages before absl::InitializeLog() is called are written to STDERR\n",
      "I0000 00:00:1723443168.305417   26301 check_gcp_environment.cc:61] BIOS data file does not exist or cannot be opened.\n"
     ]
    },
    {
     "name": "stdout",
     "output_type": "stream",
     "text": [
      "Transcript: I'm Yusuke, and living in Tokyo, and working as IT engineer at the company.\n",
      "In my free time, I like to go to gym to workout, watching Netfilx, go hiking, and playing video game.\n",
      "Thank you, and nice to meet you.\n",
      "Answer: text: \"Let\\'s take a look at your introduction and make it even better! \\n\\n**Uncorrected Sentence:** I\\'m Yusuke, and living in Tokyo, and working as IT engineer at the company.\\n\\n**Correction:** I\\'m Yusuke, and I live in Tokyo. I work as an IT engineer at [Name of Company].\\n\\n**Uncorrected Sentence:** In my free time, I like to go to gym to workout, watching Netfilx, go hiking, and playing video game.\\n\\n**Correction:**  In my free time, I enjoy going to the gym to work out, watching Netflix, hiking, and playing video games.\\n\\n**Recommended Phrases:** \\n\\n1. **Instead of \\\"Thank you, and nice to meet you,\\\" try:**  \\\"It\\'s a pleasure to meet you!\\\"\\n2. **To add a touch of personality:**  \\\"I\\'m really enjoying life in Tokyo.\\\" \\n3. **To emphasize your interests:** \\\"I\\'m particularly passionate about [mention a specific interest, e.g., hiking in the mountains].\\\"\\n\\n**Revised Introduction:** \\n\\n\\\"Hi, I\\'m Yusuke. I live in Tokyo and work as an IT engineer at [Name of Company]. In my free time, I enjoy going to the gym to work out, watching Netflix, hiking, and playing video games.  It\\'s a pleasure to meet you!\\\" \\n\\nThis revised introduction is more natural-sounding, grammatically correct, and gives the reader a better understanding of who you are and what you enjoy. \\n\"\n",
      "\n"
     ]
    }
   ],
   "source": [
    "import base64\n",
    "import vertexai\n",
    "from vertexai.generative_models import GenerativeModel, Part, SafetySetting, FinishReason\n",
    "import vertexai.preview.generative_models as generative_models\n",
    "import json\n",
    "\n",
    "def generate(project_id, location, human_text):\n",
    "    vertexai.init(project=project_id, location=location)\n",
    "    safety_settings = [\n",
    "        SafetySetting(\n",
    "            category=SafetySetting.HarmCategory.HARM_CATEGORY_HATE_SPEECH,\n",
    "            threshold=SafetySetting.HarmBlockThreshold.BLOCK_MEDIUM_AND_ABOVE\n",
    "        ),\n",
    "        SafetySetting(\n",
    "            category=SafetySetting.HarmCategory.HARM_CATEGORY_DANGEROUS_CONTENT,\n",
    "            threshold=SafetySetting.HarmBlockThreshold.BLOCK_MEDIUM_AND_ABOVE\n",
    "        ),\n",
    "        SafetySetting(\n",
    "            category=SafetySetting.HarmCategory.HARM_CATEGORY_SEXUALLY_EXPLICIT,\n",
    "            threshold=SafetySetting.HarmBlockThreshold.BLOCK_MEDIUM_AND_ABOVE\n",
    "        ),\n",
    "        SafetySetting(\n",
    "            category=SafetySetting.HarmCategory.HARM_CATEGORY_HARASSMENT,\n",
    "            threshold=SafetySetting.HarmBlockThreshold.BLOCK_MEDIUM_AND_ABOVE\n",
    "        ),\n",
    "    ]\n",
    "    instrcution = \"\"\"\n",
    "            ## Condition\n",
    "            - You are English professional teacher. \n",
    "            - Point out uncorrect word and grammer.\n",
    "            - Generate three to five recommended useful phrase instead of unnatural tone.\n",
    "            \"\"\"\n",
    "    generation_config = {\n",
    "        \"max_output_tokens\": 8192,\n",
    "        \"temperature\": 1,\n",
    "        \"top_p\": 0.95,\n",
    "    }\n",
    "\n",
    "    model = GenerativeModel(\n",
    "        \"gemini-1.5-flash-001\",\n",
    "        system_instruction=[instrcution]\n",
    "    )\n",
    "    response = model.generate_content(\n",
    "        [\n",
    "            human_text\n",
    "        ],\n",
    "        generation_config=generation_config,\n",
    "        safety_settings=safety_settings,\n",
    "        stream=False,\n",
    "    )\n",
    "\n",
    "    return response\n",
    "\n",
    "with open(\"environments/env.json\") as f:\n",
    "    env = json.load(f)\n",
    "\n",
    "human_text = \"\"\"I'm Yusuke, and living in Tokyo, and working as IT engineer at the company.\n",
    "In my free time, I like to go to gym to workout, watching Netfilx, go hiking, and playing video game.\n",
    "Thank you, and nice to meet you.\"\"\"\n",
    "\n",
    "response = generate(env[\"project_id\"], env[\"location\"], human_text)\n",
    "\n",
    "print(\"Transcript: {}\".format(human_text))\n",
    "print(\"Answer: {}\".format(response.candidates[0].content.parts[0]))\n",
    "\n"
   ]
  },
  {
   "cell_type": "code",
   "execution_count": 8,
   "metadata": {},
   "outputs": [
    {
     "name": "stdout",
     "output_type": "stream",
     "text": [
      "Answer: 00:00 Teacher Hello.\n",
      "00:02 Student Hi.\n",
      "00:04 Teacher Hello.\n",
      "00:06 Student Hi.\n",
      "00:08 Teacher Uh can you hear me and see me?\n",
      "00:13 Student Yeah, I can hear you but I can, I can't see you.\n",
      "00:20 Teacher Oh okay. Uh one second.\n",
      "00:25 Student Okay.\n",
      "00:27 Teacher Can you see me now?\n",
      "00:30 Student Yeah, that's fine. Yeah, I'm okay.\n",
      "00:34 Teacher Alright, how are you this day?\n",
      "00:38 Student Yeah, I'm, I'm good and uh, yeah, sorry, I am good, yes.\n",
      "00:46 Teacher Okay, that's good. Uh do you want to start with self-introduction?\n",
      "00:52 Student Yes, uh let me introduce myself briefly.\n",
      "00:57 Teacher Okay.\n",
      "01:01 Student Okay, uh my name is Yusuke and now I'm 31 years old, and I'm living in Tokyo and working at the company as an IT engineer, and uh in my free time, I like to go to gym, to workout, uh watching Netflix, go to uh go hiking, and uh playing video games. So, that's my introduction. Nice to meet you.\n",
      "01:54 Teacher Thank you, nice to meet you too, thanks for sharing. Um okay, well, uh my name is Rae. Uh I live in Cairo, Egypt, and uh I teach English full-time. Uh in my free time, I like to uh read books, listen to podcasts, and watch movies and TV shows and things like that.\n",
      "02:47 Teacher Mhm. That's all, thank you.\n",
      "02:52 Student Thank you, too, and nice to meet you again.\n",
      "02:59 Teacher Thank you. Um okay, so let's begin with the lesson you chose. What do you want to  uh, focus on today?\n",
      "03:18 Student Mhm.\n",
      "03:20 Student Okay, I will choose the, this one.\n",
      "03:36 Teacher Okay, nice topic.\n",
      "03:40 Student Thank you.\n",
      "03:44 Teacher Um, alright, so let's see. We first one, we want to choose or decide whether you agree or disagree with the statement, and then explain why. Okay?\n",
      "04:02 Student Okay. So,\n",
      "04:05 Teacher First one, \"Age restrictions should be placed on social media sites.\" \n",
      "04:13 Student Well, yeah, I agree with this uh opinion, because uh, uh because of social media sites and the application or applications are very addictive for the \n",
      "04:41 Student People. So, kids and uh, children uh cannot uh stop to watch the, the application every time. So, at least I think we need the, like uh time restrictions uh to watch the, and watch on those application.\n",
      "05:21 Teacher Okay. Yes, I agree. So, social media sites are addictive. Yes, that's true, and so children and adults Mhm. I think both, right? They, you said both, Yeah. children and adults, yeah, can't seem to stop using them.\n",
      "05:51 Student Yeah, that's right, yes.\n",
      "05:53 Teacher Every people cannot stop to watch. \n",
      "06:02 Student Yes.\n",
      "06:06 Teacher Okay, very good. Well, what do you think about the next one? \"Age should be \n",
      "\n"
     ]
    }
   ],
   "source": [
    "import vertexai\n",
    "from vertexai.generative_models import GenerativeModel, Part, SafetySetting, FinishReason, Part\n",
    "import vertexai.preview.generative_models as generative_models\n",
    "import json\n",
    "\n",
    "audio_file_uri = \"gs://english-learning-feedback/first_five_min.mp3\"\n",
    "\n",
    "def generate_from_audio(project_id, location, audio_file_uri):\n",
    "    vertexai.init(project=project_id, location=location)\n",
    "    instrcution = \"\"\"\n",
    "            Can you transcribe this English conversation class, in the format of timecode, speaker, caption.\n",
    "            Speakers are teacher, who is woman and high toned voice, and student, who is man and low toned voice.\n",
    "            Please follow this format:\n",
    "            00:00 Teacher Hello.\n",
    "            00:02 Student Hi.\n",
    "            ...\n",
    "            \"\"\"\n",
    "    audio_file = Part.from_uri(audio_file_uri, mime_type=\"audio/mpeg\")\n",
    "\n",
    "    model = GenerativeModel(\"gemini-1.5-flash-001\")\n",
    "    response = model.generate_content(\n",
    "        [\n",
    "            audio_file,\n",
    "            instrcution,\n",
    "        ],\n",
    "    )\n",
    "\n",
    "    return response\n",
    "\n",
    "with open(\"environments/env.json\") as f:\n",
    "    env = json.load(f)\n",
    "\n",
    "response = generate_from_audio(env[\"project_id\"], env[\"location\"], audio_file_uri)\n",
    "\n",
    "print(\"Answer: {}\".format(response.text))\n"
   ]
  },
  {
   "cell_type": "code",
   "execution_count": 9,
   "metadata": {},
   "outputs": [],
   "source": [
    "with open(\"assets/output.txt\", \"w\", encoding=\"utf-8\") as file:\n",
    "  file.write(response.text)"
   ]
  },
  {
   "cell_type": "code",
   "execution_count": 6,
   "metadata": {},
   "outputs": [
    {
     "name": "stdout",
     "output_type": "stream",
     "text": [
      "{\n",
      "    \"Teacher\": {\n",
      "        \"0:00\": [\"Hello\"],\n",
      "        \"0:03\": [\"Hello\"],\n",
      "        \"0:06\": [\"Uh\", \"can\", \"you\", \"hear\", \"me\", \"and\", \"see\", \"me\"],\n",
      "        \"0:17\": [\"Oh\", \"okay\", \"one\", \"second\"],\n",
      "        \"0:24\": [\"Okay\"],\n",
      "        \"0:28\": [\"Can\", \"you\", \"see\", \"me\", \"now\"],\n",
      "        \"0:35\": [\"Alright\", \"how\", \"are\", \"you\", \"today\"],\n",
      "        \"0:45\": [\"Okay\", \"that's\", \"good\"],\n",
      "        \"0:51\": [\"Uh\", \"do\", \"you\", \"want\", \"to\", \"start\", \"with\", \"self\", \"introduction\"],\n",
      "        \"1:06\": [\"Okay\"],\n",
      "        \"1:11\": [\"Okay\", \"well\", \"uh\", \"my\", \"name\", \"is\", \"Ray\"],\n",
      "        \"1:22\": [\"Uh\", \"I\", \"live\", \"in\", \"Cairo\", \"Egypt\"],\n",
      "        \"1:33\": [\"And\", \"um\", \"I\", \"teach\", \"English\", \"full\", \"time\"],\n",
      "        \"1:45\": [\"Uh\", \"in\", \"my\", \"free\", \"time\", \"I\", \"like\", \"uh\", \"to\", \"read\", \"books\", \"listen\", \"to\", \"podcasts\", \"and\", \"watch\", \"movies\", \"and\", \"TV\", \"shows\", \"and\", \"things\", \"like\", \"that\"],\n",
      "        \"2:15\": [\"That's\", \"all\", \"thank\", \"you\"],\n",
      "        \"2:24\": [\"Thank\", \"you\", \"too\", \"and\", \"let's\", \"meet\", \"you\", \"again\"],\n",
      "        \"2:36\": [\"Thank\", \"you\"],\n",
      "        \"2:39\": [\"Um\", \"okay\", \"so\", \"let's\", \"begin\", \"with\"],\n",
      "        \"2:52\": [\"The\", \"lesson\", \"you\", \"chose\", \"What\", \"do\", \"you\", \"want\", \"to\", \"talk\", \"about\", \"today\"],\n",
      "        \"3:09\": [\"Okay\", \"I\", \"will\", \"choose\", \"the\", \"this\", \"one\"],\n",
      "        \"3:24\": [\"Okay\", \"nice\", \"topic\"],\n",
      "        \"3:31\": [\"Thank\", \"you\"],\n",
      "        \"3:33\": [\"Um\", \"alright\", \"so\", \"let's\", \"see\"],\n",
      "        \"3:43\": [\"We\", \"first\", \"one\", \"We\", \"want\", \"to\", \"choose\", \"or\", \"decide\", \"whether\", \"you\", \"agree\", \"or\", \"disagree\", \"with\", \"the\", \"statement\", \"and\", \"then\", \"explain\", \"why\", \"Okay\"],\n",
      "        \"4:09\": [\"Okay\", \"So\", \"first\", \"one\", \"Age\", \"restrictions\", \"should\", \"be\", \"placed\", \"on\", \"social\", \"media\", \"sites\"],\n",
      "        \"4:37\": [\"Well\", \"Yeah\", \"I\", \"agree\", \"with\", \"this\", \"opinion\", \"because\", \"uh\", \"because\", \"of\", \"social\", \"media\", \"sites\", \"and\", \"application\", \"or\", \"applications\", \"are\", \"very\", \"addictive\", \"for\", \"the\", \"people\", \"So\", \"kids\", \"and\", \"uh\", \"children\", \"uh\", \"cannot\", \"uh\", \"stop\", \"to\", \"watch\", \"the\", \"the\", \"application\", \"every\", \"time\", \"So\", \"at\", \"least\", \"I\", \"think\", \"we\", \"need\", \"the\", \"like\", \"uh\", \"time\", \"restrictions\", \"uh\", \"to\", \"watch\", \"the\", \"and\", \"watch\", \"only\", \"use\", \"application\"],\n",
      "        \"5:58\": [\"Okay\", \"Yes\", \"I\", \"agree\"],\n",
      "        \"6:03\": [\"So\", \"social\", \"media\", \"sites\", \"are\", \"addictive\", \"Yes\", \"That's\", \"true\"],\n",
      "        \"6:19\": [\"And\", \"so\", \"children\", \"and\", \"adults\"],\n",
      "        \"6:31\": [\"I\", \"think\", \"both\", \"right\"],\n",
      "        \"6:39\": [\"That\", \"you\", \"said\", \"both\"],\n",
      "        \"6:46\": [\"Yeah\"],\n",
      "        \"6:48\": [\"Children\", \"and\", \"adults\", \"Yeah\"],\n",
      "        \"6:57\": [\"Can't\", \"seem\", \"to\", \"stop\", \"using\", \"them\"],\n",
      "        \"7:08\": [\"Yeah\", \"That's\", \"right\", \"Yes\"],\n",
      "        \"7:14\": [\"Every\", \"people\"],\n",
      "        \"7:21\": [\"Cannot\", \"stop\", \"to\", \"watch\"],\n",
      "        \"7:30\": [\"Yes\"],\n",
      "        \"7:35\": [\"Okay\", \"very\", \"good\", \"Well\"],\n",
      "        \"7:42\": [\"What\", \"do\", \"you\", \"think\", \"about\", \"the\", \"next\", \"one\", \"Age\"]\n",
      "    },\n",
      "    \"Student\": {\n",
      "        \"0:02\": [\"Hi\"],\n",
      "        \"0:05\": [\"Hi\"],\n",
      "        \"0:09\": [\"Yeah\", \"I\", \"can\", \"hear\", \"you\", \"but\", \"I\", \"can\", \"I\", \"can't\", \"see\", \"you\"],\n",
      "        \"0:30\": [\"Yeah\", \"that's\", \"fine\", \"Yeah\", \"I'm\", \"okay\"],\n",
      "        \"0:40\": [\"Yeah\", \"I'm\", \"I'm\", \"good\", \"and\", \"uh\"],\n",
      "        \"0:50\": [\"Yeah\", \"Sorry\", \"I\", \"have\", \"I\", \"have\", \"good\", \"Yes\"],\n",
      "        \"1:00\": [\"Yes\", \"uh\", \"I\", \"let\", \"me\", \"introduce\", \"myself\", \"briefly\"],\n",
      "        \"1:09\": [\"Okay\", \"uh\", \"my\", \"name\", \"is\", \"Yusuke\", \"And\", \"now\", \"I'm\", \"31\", \"years\", \"old\", \"and\", \"I'm\", \"living\", \"in\", \"Tokyo\", \"and\", \"working\", \"at\", \"the\", \"company\", \"as\", \"an\", \"IT\", \"engineer\", \"And\", \"uh\", \"in\", \"my\", \"free\", \"time\", \"I\", \"like\", \"to\", \"go\", \"to\", \"gym\", \"to\", \"workout\", \"uh\", \"watching\", \"Netflix\", \"go\", \"to\", \"uh\", \"go\", \"hiking\", \"and\", \"uh\", \"playing\", \"video\", \"game\", \"So\", \"that's\", \"my\", \"introduction\", \"Nice\", \"to\", \"meet\", \"you\"],\n",
      "        \"2:21\": [\"Nice\", \"to\", \"meet\", \"you\"],\n",
      "        \"2:56\": [\"Mhm\"],\n",
      "        \"3:04\": [\"Okay\", \"I\", \"will\", \"choose\", \"the\", \"this\", \"one\"],\n",
      "        \"3:30\": [\"Thank\", \"you\"],\n",
      "        \"4:21\": [\"Well\", \"Yeah\", \"I\", \"agree\", \"with\", \"this\", \"opinion\", \"because\", \"uh\", \"because\", \"of\", \"social\", \"media\", \"sites\", \"and\", \"application\", \"or\", \"applications\", \"are\", \"very\", \"addictive\", \"for\", \"the\", \"people\", \"So\", \"kids\", \"and\", \"uh\", \"children\", \"uh\", \"cannot\", \"uh\", \"stop\", \"to\", \"watch\", \"the\", \"the\", \"application\", \"every\", \"time\", \"So\", \"at\", \"least\", \"I\", \"think\", \"we\", \"need\", \"the\", \"like\", \"uh\", \"time\", \"restrictions\", \"uh\", \"to\", \"watch\", \"the\", \"and\", \"watch\", \"only\", \"use\", \"application\"],\n",
      "        \"6:32\": [\"Mhm\"],\n",
      "        \"6:45\": [\"Yeah\"],\n",
      "        \"7:06\": [\"Yeah\", \"that's\", \"right\", \"Yes\"],\n",
      "        \"7:29\": [\"Yes\"]\n",
      "    }\n",
      "}\n"
     ]
    }
   ],
   "source": [
    "import vertexai\n",
    "from vertexai.generative_models import GenerativeModel, Part\n",
    "\n",
    "vertexai.init(project=\"ksst-genai-app\", location=\"asia-northeast1\")\n",
    "\n",
    "model = GenerativeModel(\"gemini-1.5-flash-001\")\n",
    "\n",
    "prompt = \"\"\"\n",
    "Can you transcribe this English conversation class, in the format of timecode, speaker, caption.\n",
    "Speakers are woman, who is teacher and high toned voice, and man, who is student and low toned voice.\n",
    "Output should follow this JSON format without code-block:\n",
    "{\n",
    "    \"Teacher\": {\n",
    "        \"0:00\": [\"I\", \"am\", \"Mike\"],\n",
    "        \"0:01\": [\"How\", \"are\", \"you\"],\n",
    "        ...\n",
    "    },\n",
    "    \"Student\": {\n",
    "        \"0:02\": [\"I'm\", \"good\"],\n",
    "        \"0:03\": [\"How\", \"about\", \"you\"],\n",
    "        ...\n",
    "    },\n",
    "}\n",
    "\"\"\"\n",
    "\n",
    "audio_file_uri = \"gs://english-learning-feedback/first_five_min.mp3\"\n",
    "audio_file = Part.from_uri(audio_file_uri, mime_type=\"audio/mpeg\")\n",
    "\n",
    "contents = [audio_file, prompt]\n",
    "\n",
    "response = model.generate_content(contents)\n",
    "print(response.text)"
   ]
  },
  {
   "cell_type": "code",
   "execution_count": 4,
   "metadata": {},
   "outputs": [
    {
     "name": "stdout",
     "output_type": "stream",
     "text": [
      "candidates {\n",
      "  content {\n",
      "    role: \"model\"\n",
      "    parts {\n",
      "      text: \"```json\\n{\\n    \\\"Speaker A\\\": {\\n        \\\"0:00\\\": [\\\"Hallo\\\"],\\n        \\\"0:02\\\": [\\\"Hallo\\\"],\\n        \\\"0:04\\\": [\\\"Uh\\\", \\\"can\\\", \\\"you\\\", \\\"hear\\\", \\\"me\\\", \\\"and\\\", \\\"see\\\", \\\"me\\\"],\\n        \\\"0:12\\\": [\\\"Okay\\\"],\\n        \\\"0:18\\\": [\\\"Can\\\", \\\"you\\\", \\\"see\\\", \\\"me\\\", \\\"now\\\"],\\n        \\\"0:23\\\": [\\\"All\\\", \\\"right\\\", \\\"how\\\", \\\"are\\\", \\\"you\\\", \\\"today\\\"],\\n        \\\"0:32\\\": [\\\"Okay\\\", \\\"that\\'s\\\", \\\"good\\\"],\\n        \\\"0:38\\\": [\\\"Uh\\\", \\\"do\\\", \\\"you\\\", \\\"want\\\", \\\"to\\\", \\\"start\\\", \\\"with\\\", \\\"self\\\", \\\"introduction\\\"],\\n        \\\"0:51\\\": [\\\"Okay\\\"],\\n        \\\"0:56\\\": [\\\"Okay\\\", \\\"well\\\", \\\"uh\\\", \\\"my\\\", \\\"name\\\", \\\"is\\\", \\\"Ray\\\"],\\n        \\\"1:06\\\": [\\\"Uh\\\", \\\"I\\\", \\\"live\\\", \\\"in\\\", \\\"Cairo\\\", \\\"Egypt\\\"],\\n        \\\"1:17\\\": [\\\"And\\\", \\\"um\\\", \\\"I\\\", \\\"teach\\\", \\\"English\\\", \\\"full\\\", \\\"time\\\"],\\n        \\\"1:31\\\": [\\\"Uh\\\", \\\"in\\\", \\\"my\\\", \\\"free\\\", \\\"time\\\", \\\"I\\\", \\\"like\\\", \\\"uh\\\", \\\"to\\\", \\\"read\\\", \\\"books\\\", \\\"listen\\\", \\\"to\\\", \\\"podcasts\\\", \\\"and\\\", \\\"watch\\\", \\\"movies\\\", \\\"and\\\", \\\"TV\\\", \\\"shows\\\", \\\"and\\\", \\\"things\\\", \\\"like\\\", \\\"that\\\"],\\n        \\\"1:58\\\": [\\\"That\\'s\\\", \\\"all\\\", \\\"thank\\\", \\\"you\\\"],\\n        \\\"2:05\\\": [\\\"Thank\\\", \\\"you\\\", \\\"too\\\", \\\"and\\\", \\\"let\\'s\\\", \\\"meet\\\", \\\"you\\\", \\\"again\\\"],\\n        \\\"2:17\\\": [\\\"Thank\\\", \\\"you\\\"],\\n        \\\"2:22\\\": [\\\"Um\\\", \\\"okay\\\", \\\"so\\\", \\\"let\\'s\\\", \\\"begin\\\", \\\"with\\\"],\\n        \\\"2:35\\\": [\\\"the\\\", \\\"lesson\\\", \\\"you\\\", \\\"chose\\\", \\\"what\\\", \\\"do\\\", \\\"you\\\", \\\"want\\\", \\\"to\\\", \\\"talk\\\", \\\"about\\\", \\\"today\\\"],\\n        \\\"2:52\\\": [\\\"Okay\\\", \\\"I\\\", \\\"will\\\", \\\"choose\\\", \\\"the\\\", \\\"this\\\", \\\"one\\\"],\\n        \\\"3:02\\\": [\\\"Okay\\\", \\\"nice\\\", \\\"topic\\\"],\\n        \\\"3:08\\\": [\\\"Um\\\", \\\"all\\\", \\\"right\\\", \\\"so\\\", \\\"let\\'s\\\", \\\"see\\\"],\\n        \\\"3:17\\\": [\\\"We\\\", \\\"first\\\", \\\"one\\\", \\\"we\\\", \\\"want\\\", \\\"to\\\", \\\"choose\\\", \\\"or\\\", \\\"decide\\\", \\\"whether\\\", \\\"you\\\", \\\"agree\\\", \\\"or\\\", \\\"disagree\\\", \\\"with\\\", \\\"the\\\", \\\"statement\\\", \\\"and\\\", \\\"then\\\", \\\"explain\\\", \\\"why\\\", \\\"okay\\\"],\\n        \\\"3:50\\\": [\\\"Okay\\\", \\\"so\\\", \\\"first\\\", \\\"one\\\", \\\"age\\\", \\\"restrictions\\\", \\\"should\\\", \\\"be\\\", \\\"placed\\\", \\\"on\\\", \\\"social\\\", \\\"media\\\", \\\"sites\\\"],\\n        \\\"4:28\\\": [\\\"Yeah\\\", \\\"I\\\", \\\"agree\\\", \\\"with\\\", \\\"this\\\", \\\"opinion\\\", \\\"because\\\", \\\"uh\\\"],\\n        \\\"4:43\\\": [\\\"because\\\", \\\"the\\\", \\\"social\\\", \\\"media\\\", \\\"sites\\\", \\\"and\\\", \\\"application\\\", \\\"or\\\", \\\"applications\\\", \\\"are\\\", \\\"very\\\", \\\"addictive\\\", \\\"for\\\", \\\"the\\\", \\\"people\\\", \\\"so\\\", \\\"kids\\\", \\\"and\\\", \\\"uh\\\"],\\n        \\\"5:06\\\": [\\\"children\\\", \\\"uh\\\", \\\"cannot\\\", \\\"uh\\\", \\\"stop\\\", \\\"to\\\", \\\"watch\\\", \\\"the\\\", \\\"the\\\", \\\"application\\\", \\\"every\\\", \\\"time\\\", \\\"so\\\", \\\"at\\\", \\\"least\\\", \\\"I\\\", \\\"think\\\", \\\"we\\\", \\\"need\\\", \\\"the\\\", \\\"like\\\", \\\"uh\\\", \\\"time\\\", \\\"restrictions\\\", \\\"uh\\\", \\\"to\\\", \\\"watch\\\", \\\"the\\\", \\\"applications\\\"],\\n        \\\"5:59\\\": [\\\"Okay\\\", \\\"yes\\\", \\\"I\\\", \\\"agree\\\"],\\n        \\\"6:04\\\": [\\\"So\\\", \\\"social\\\", \\\"media\\\", \\\"sites\\\", \\\"are\\\", \\\"addictive\\\", \\\"yes\\\", \\\"that\\'s\\\", \\\"true\\\"],\\n        \\\"6:21\\\": [\\\"And\\\", \\\"so\\\", \\\"children\\\", \\\"and\\\", \\\"adults\\\", \\\"I\\\", \\\"think\\\", \\\"both\\\", \\\"right\\\", \\\"they\\\", \\\"you\\\", \\\"said\\\", \\\"both\\\", \\\"children\\\", \\\"and\\\", \\\"adults\\\", \\\"yeah\\\", \\\"can\\'t\\\", \\\"seem\\\", \\\"to\\\", \\\"stop\\\", \\\"using\\\", \\\"them\\\"],\\n        \\\"7:03\\\": [\\\"Yeah\\\", \\\"that\\'s\\\", \\\"right\\\", \\\"yes\\\", \\\"every\\\", \\\"people\\\", \\\"cannot\\\", \\\"stop\\\", \\\"to\\\", \\\"watch\\\"],\\n        \\\"7:24\\\": [\\\"Yes\\\"],\\n        \\\"7:29\\\": [\\\"Okay\\\", \\\"very\\\", \\\"good\\\", \\\"well\\\"],\\n        \\\"7:36\\\": [\\\"What\\\", \\\"do\\\", \\\"you\\\", \\\"think\\\", \\\"about\\\", \\\"the\\\", \\\"next\\\", \\\"one\\\", \\\"age\\\", \\\"restrictions\\\", \\\"prevent\\\", \\\"cyber\\\", \\\"bullying\\\"],\\n        \\\"8:03\\\": [\\\"Wow\\\", \\\"cyber\\\", \\\"bullying\\\", \\\"is\\\", \\\"a\\\", \\\"like\\\", \\\"a\\\"],\\n        \\\"8:14\\\": [\\\"bullying\\\", \\\"bullying\\\", \\\"uh\\\", \\\"through\\\", \\\"the\\\", \\\"like\\\", \\\"uh\\\", \\\"messenger\\\", \\\"or\\\", \\\"some\\\", \\\"group\\\", \\\"chat\\\", \\\"or\\\", \\\"like\\\", \\\"that\\\", \\\"uh-huh\\\"],\\n        \\\"8:43\\\": [\\\"Well\\\"],\\n        \\\"8:51\\\": [\\\"Yeah\\\", \\\"partially\\\", \\\"partially\\\", \\\"age\\\", \\\"restriction\\\", \\\"uh\\\", \\\"able\\\", \\\"is\\\", \\\"able\\\", \\\"to\\\", \\\"prevent\\\", \\\"the\\\", \\\"bullying\\\", \\\"cyberbullying\\\", \\\"um\\\", \\\"my\\\", \\\"the\\\", \\\"reason\\\", \\\"is\\\", \\\"uh\\\"],\\n        \\\"9:36\\\": [\\\"The\\\", \\\"reason\\\", \\\"of\\\", \\\"the\\\", \\\"partially\\\", \\\"uh\\\"],\\n        \\\"9:51\\\": [\\\"that\\'s\\\", \\\"uh\\\", \\\"how\\\", \\\"can\\\", \\\"I\\\", \\\"say\\\", \\\"this\\\", \\\"one\\\", \\\"uh\\\", \\\"well\\\"],\\n        \\\"10:09\\\": [\\\"the\\\"],\\n        \\\"10:13\\\": [\\\"human\\\", \\\"in\\\", \\\"my\\\", \\\"opinion\\\", \\\"human\\\", \\\"being\\\", \\\"uh\\\", \\\"cannot\\\", \\\"stop\\\", \\\"bullying\\\", \\\"somebody\\\", \\\"so\\\"],\\n        \\\"10:48\\\": [\\\"I\\\", \\\"think\\\", \\\"uh\\\", \\\"yeah\\\", \\\"age\\\", \\\"restrictions\\\", \\\"uh\\\", \\\"I\\\", \\\"think\\\", \\\"uh\\\", \\\"one\\\", \\\"of\\\", \\\"the\\\"],\\n        \\\"11:01\\\": [\\\"solution\\\", \\\"to\\\", \\\"stop\\\", \\\"bullying\\\", \\\"but\\\", \\\"uh\\\"],\\n        \\\"11:14\\\": [\\\"I\\\", \\\"think\\\", \\\"people\\\", \\\"can\\\", \\\"find\\\", \\\"a\\\", \\\"another\\\", \\\"way\\\", \\\"to\\\", \\\"bullying\\\", \\\"way\\\", \\\"another\\\", \\\"way\\\", \\\"of\\\", \\\"bullying\\\", \\\"somebody\\\"],\\n        \\\"11:48\\\": [\\\"Yes\\\"],\\n        \\\"11:52\\\": [\\\"That\\'s\\\", \\\"why\\\"],\\n        \\\"11:57\\\": [\\\"partially\\\", \\\"uh\\\", \\\"preventing\\\", \\\"the\\\", \\\"bullying\\\", \\\"partially\\\", \\\"yes\\\", \\\"but\\\", \\\"uh\\\", \\\"I\\\", \\\"think\\\", \\\"uh\\\", \\\"we\\\", \\\"have\\\", \\\"to\\\", \\\"find\\\", \\\"another\\\", \\\"way\\\", \\\"to\\\"],\\n        \\\"12:31\\\": [\\\"restrict\\\", \\\"bullying\\\"],\\n        \\\"12:39\\\": [\\\"Uh-huh\\\", \\\"uh-huh\\\", \\\"yes\\\", \\\"I\\\", \\\"understand\\\", \\\"the\\\", \\\"concept\\\"],\\n        \\\"12:57\\\": [\\\"Oh\\\", \\\"thank\\\", \\\"you\\\", \\\"so\\\", \\\"much\\\"],\\n        \\\"13:03\\\": [\\\"You\\'re\\\", \\\"welcome\\\", \\\"yeah\\\", \\\"so\\\"],\\n        \\\"13:09\\\": [\\\"You\\'ve\\\", \\\"you\\'ve\\\", \\\"made\\\", \\\"a\\\", \\\"good\\\", \\\"point\\\", \\\"so\\\", \\\"you\\\", \\\"think\\\", \\\"that\\\", \\\"even\\\", \\\"if\\\", \\\"you\\\", \\\"put\\\", \\\"age\\\", \\\"restrictions\\\", \\\"on\\\"],\\n        \\\"13:34\\\": [\\\"on\\\", \\\"the\\\", \\\"internet\\\"],\\n        \\\"13:38\\\": [\\\"then\\\", \\\"people\\\", \\\"will\\\", \\\"just\\\", \\\"bully\\\", \\\"through\\\", \\\"another\\\", \\\"form\\\", \\\"not\\\", \\\"the\\\", \\\"internet\\\"],\\n        \\\"13:58\\\": [\\\"Yes\\\", \\\"that\\'s\\\", \\\"right\\\", \\\"yeah\\\", \\\"yeah\\\", \\\"that\\'s\\\", \\\"that\\'s\\\", \\\"good\\\"],\\n        \\\"14:10\\\": [\\\"Mostly\\\", \\\"mostly\\\", \\\"children\\\"],\\n        \\\"14:17\\\": [\\\"Yeah\\\", \\\"yes\\\", \\\"yes\\\"],\\n        \\\"14:24\\\": [\\\"So\\\", \\\"I\\\", \\\"I\\'m\\\", \\\"not\\\", \\\"familiar\\\", \\\"with\\\"],\\n        \\\"14:34\\\": [\\\"the\\\", \\\"school\\\", \\\"culture\\\", \\\"in\\\", \\\"Japan\\\", \\\"so\\\", \\\"I\\\", \\\"know\\\", \\\"that\\\", \\\"because\\\", \\\"I\\'m\\\", \\\"familiar\\\", \\\"with\\\", \\\"Korean\\\", \\\"culture\\\", \\\"more\\\", \\\"I\\\", \\\"know\\\", \\\"there\\'s\\\", \\\"a\\\", \\\"lot\\\", \\\"of\\\", \\\"bullying\\\", \\\"in\\\", \\\"Korean\\\", \\\"schools\\\", \\\"like\\\", \\\"this\\\", \\\"is\\\", \\\"a\\\", \\\"almost\\\", \\\"like\\\", \\\"a\\\"],\\n        \\\"15:12\\\": [\\\"a\\\", \\\"known\\\", \\\"fact\\\", \\\"there\\\", \\\"so\\\", \\\"is\\\", \\\"it\\\", \\\"the\\\", \\\"same\\\", \\\"in\\\", \\\"Japan\\\", \\\"or\\\", \\\"is\\\", \\\"it\\\", \\\"different\\\"],\\n        \\\"15:44\\\": [\\\"Wow\\\"],\\n        \\\"15:50\\\": [\\\"Yeah\\\", \\\"it\\'s\\\", \\\"same\\\", \\\"almost\\\", \\\"same\\\", \\\"situation\\\", \\\"as\\\", \\\"the\\\", \\\"Korea\\\", \\\"but\\\", \\\"uh\\\", \\\"I\\'m\\\", \\\"I\\\", \\\"don\\'t\\\", \\\"know\\\", \\\"why\\\", \\\"it\\'s\\\", \\\"a\\\", \\\"how\\\", \\\"can\\\", \\\"I\\\", \\\"say\\\"],\\n        \\\"16:25\\\": [\\\"due\\\", \\\"to\\\", \\\"the\\\", \\\"personality\\\", \\\"of\\\", \\\"nationality\\\", \\\"of\\\", \\\"the\\\", \\\"Japanese\\\", \\\"or\\\", \\\"not\\\", \\\"sure\\\", \\\"but\\\", \\\"uh\\\", \\\"I\\\", \\\"I\\\", \\\"have\\\", \\\"often\\\", \\\"hard\\\", \\\"that\\\", \\\"the\\\", \\\"the\\\", \\\"how\\\", \\\"can\\\", \\\"I\\\", \\\"say\\\"],\\n        \\\"17:07\\\": [\\\"uh\\\", \\\"wise\\\"],\\n        \\\"17:16\\\": [\\\"technology\\\", \\\"advances\\\", \\\"like\\\", \\\"uh\\\", \\\"smartphone\\\", \\\"internet\\\", \\\"uh\\\", \\\"social\\\", \\\"network\\\", \\\"services\\\", \\\"uh\\\", \\\"promote\\\", \\\"not\\\", \\\"promote\\\"],\\n        \\\"17:55\\\": [\\\"Encourage\\\"],\\n        \\\"17:58\\\": [\\\"Yeah\\\", \\\"encourage\\\", \\\"yes\\\", \\\"encourage\\\", \\\"the\\\", \\\"children\\'s\\\", \\\"bullying\\\", \\\"like\\\", \\\"uh\\\", \\\"uh\\\"],\\n        \\\"18:27\\\": [\\\"for\\\", \\\"example\\\", \\\"forget\\\", \\\"regret\\\", \\\"not\\\", \\\"regret\\\", \\\"uh\\\"],\\n        \\\"18:43\\\": [\\\"ignore\\\", \\\"yes\\\", \\\"ignoring\\\", \\\"the\\\", \\\"people\\\", \\\"ignore\\\", \\\"the\\\", \\\"people\\\", \\\"who\\\", \\\"is\\\", \\\"in\\\", \\\"same\\\", \\\"group\\\", \\\"chat\\\", \\\"or\\\"],\\n        \\\"19:12\\\": [\\\"uh\\\", \\\"how\\\", \\\"can\\\", \\\"I\\\", \\\"say\\\", \\\"talking\\\", \\\"someone\\'s\\\"],\\n        \\\"19:25\\\": [\\\"rumor\\\", \\\"or\\\", \\\"toxic\\\", \\\"toxic\\\", \\\"words\\\", \\\"for\\\", \\\"the\\\", \\\"children\\\", \\\"not\\\", \\\"children\\\", \\\"for\\\", \\\"someone\\\", \\\"so\\\", \\\"and\\\", \\\"by\\\", \\\"the\\\", \\\"way\\\", \\\"I\\'m\\\", \\\"curious\\\", \\\"uh\\\", \\\"about\\\", \\\"the\\\", \\\"where\\\", \\\"where\\\", \\\"did\\\", \\\"you\\\", \\\"get\\\", \\\"this\\\", \\\"information\\\", \\\"like\\\", \\\"uh\\\", \\\"the\\\", \\\"Korea\\\", \\\"is\\\", \\\"a\\\", \\\"Korea\\\", \\\"has\\\", \\\"a\\\"],\\n        \\\"20:21\\\": [\\\"Right\\\", \\\"well\\\", \\\"because\\\", \\\"so\\\", \\\"I\\\", \\\"have\\\", \\\"many\\\", \\\"sources\\\", \\\"first\\\", \\\"of\\\", \\\"all\\\", \\\"I\\'m\\\", \\\"interested\\\", \\\"in\\\", \\\"Korean\\\", \\\"culture\\\", \\\"uh\\\", \\\"so\\\", \\\"I\\\", \\\"do\\\", \\\"that\\\", \\\"but\\\", \\\"also\\\", \\\"my\\\", \\\"uh\\\", \\\"brother\\\", \\\"in\\\", \\\"law\\\", \\\"is\\\", \\\"Korean\\\", \\\"so\\\", \\\"uh\\\", \\\"yeah\\\", \\\"so\\\", \\\"we\\\", \\\"we\\\", \\\"talk\\\", \\\"about\\\", \\\"different\\\", \\\"topics\\\", \\\"and\\\", \\\"that\\\", \\\"sometimes\\\", \\\"comes\\\", \\\"up\\\", \\\"you\\\", \\\"know\\\", \\\"the\\\", \\\"whole\\\", \\\"uh\\\", \\\"you\\\", \\\"know\\\", \\\"we\\\", \\\"talk\\\", \\\"about\\\", \\\"different\\\", \\\"cultures\\\", \\\"and\\\", \\\"so\\\", \\\"he\\\", \\\"tells\\\", \\\"us\\\", \\\"about\\\", \\\"the\\\", \\\"Korean\\\", \\\"culture\\\", \\\"and\\\", \\\"so\\\", \\\"that\\'s\\\", \\\"why\\\", \\\"I\\'m\\\", \\\"familiar\\\", \\\"with\\\", \\\"it\\\", \\\"a\\\", \\\"little\\\", \\\"bit\\\"],\\n        \\\"21:54\\\": [\\\"Oh\\\", \\\"that\\\", \\\"makes\\\", \\\"sense\\\", \\\"so\\\", \\\"you\\\", \\\"have\\\", \\\"the\\\", \\\"many\\\", \\\"sources\\\", \\\"uh\\\", \\\"of\\\", \\\"the\\\", \\\"Korean\\\", \\\"culture\\\", \\\"I\\\", \\\"see\\\", \\\"I\\\", \\\"see\\\", \\\"that\\'s\\\", \\\"great\\\"],\\n        \\\"22:27\\\": [\\\"Um\\\", \\\"okay\\\", \\\"so\\\", \\\"but\\\", \\\"this\\\", \\\"was\\\", \\\"a\\\", \\\"very\\\", \\\"good\\\", \\\"point\\\", \\\"you\\\", \\\"made\\\", \\\"about\\\", \\\"the\\\", \\\"technological\\\", \\\"advances\\\", \\\"so\\\", \\\"I\\\", \\\"would\\\", \\\"say\\\", \\\"that\\\", \\\"it\\\", \\\"facilitates\\\", \\\"them\\\", \\\"not\\\", \\\"encourages\\\", \\\"facilitates\\\", \\\"it\\\", \\\"makes\\\", \\\"it\\\", \\\"easier\\\", \\\"for\\\", \\\"people\\\", \\\"to\\\", \\\"bully\\\", \\\"each\\\", \\\"other\\\"],\\n        \\\"23:25\\\": [\\\"Oh\\\", \\\"see\\\", \\\"facilitates\\\", \\\"bullying\\\", \\\"uh-huh\\\", \\\"so\\\", \\\"promoting\\\", \\\"is\\\", \\\"a\\\", \\\"also\\\", \\\"a\\\", \\\"bit\\\", \\\"different\\\"],\\n        \\\"23:50\\\": [\\\"Yeah\\\", \\\"so\\\", \\\"promoting\\\", \\\"means\\\", \\\"I\\\", \\\"am\\\", \\\"asking\\\", \\\"you\\\", \\\"hey\\\", \\\"it\\'s\\\", \\\"good\\\", \\\"time\\\", \\\"to\\\", \\\"go\\\", \\\"bully\\\", \\\"your\\\", \\\"friends\\\", \\\"so\\\", \\\"go\\\", \\\"ahead\\\", \\\"bully\\\", \\\"your\\\", \\\"friends\\\", \\\"today\\\", \\\"that\\'s\\\", \\\"promoting\\\", \\\"positive\\\", \\\"meaning\\\"],\\n        \\\"24:37\\\": [\\\"Yes\\\"],\\n        \\\"24:43\\\": [\\\"Uh-huh\\\", \\\"uh-huh\\\", \\\"I\\\", \\\"see\\\", \\\"I\\\", \\\"see\\\"],\\n        \\\"24:54\\\": [\\\"Okay\\\", \\\"thank\\\", \\\"you\\\", \\\"so\\\", \\\"much\\\", \\\"facilitates\\\", \\\"bullying\\\"],\\n        \\\"25:05\\\": [\\\"Yeah\\\", \\\"yeah\\\", \\\"I\\\", \\\"remember\\\", \\\"that\\\", \\\"thank\\\", \\\"you\\\", \\\"um\\\", \\\"okay\\\", \\\"let\\'s\\\", \\\"move\\\", \\\"to\\\", \\\"number\\\", \\\"three\\\", \\\"the\\\", \\\"time\\\", \\\"that\\\", \\\"children\\\", \\\"spend\\\", \\\"on\\\", \\\"social\\\", \\\"networking\\\", \\\"sites\\\", \\\"should\\\", \\\"be\\\", \\\"supervised\\\", \\\"by\\\", \\\"parents\\\"],\\n        \\\"25:57\\\": [\\\"Wow\\\"],\\n        \\\"26:04\\\": [\\\"I\\\", \\\"see\\\", \\\"okay\\\", \\\"yeah\\\", \\\"wow\\\", \\\"I\\\", \\\"I\\\", \\\"agree\\\", \\\"with\\\", \\\"the\\\", \\\"the\\\", \\\"supervising\\\", \\\"the\\\", \\\"the\\\", \\\"time\\\", \\\"uh\\\", \\\"by\\\", \\\"the\\\", \\\"parents\\\", \\\"yeah\\\", \\\"because\\\", \\\"uh\\\", \\\"as\\\", \\\"we\\\", \\\"discussed\\\", \\\"uh\\\", \\\"before\\\", \\\"uh\\\", \\\"that\\'s\\\", \\\"a\\\", \\\"children\\\", \\\"cannot\\\", \\\"uh\\\", \\\"stop\\\", \\\"cannot\\\", \\\"how\\\", \\\"can\\\", \\\"I\\\", \\\"say\\\", \\\"cannot\\\", \\\"fight\\\", \\\"with\\\", \\\"the\\\", \\\"motivation\\\", \\\"so\\\", \\\"they\\\", \\\"are\\\", \\\"how\\\", \\\"can\\\", \\\"I\\\", \\\"say\\\", \\\"the\\\", \\\"motivation\\\", \\\"which\\\", \\\"is\\\", \\\"uh\\\"],\\n        \\\"27:25\\\": [\\\"which\\\", \\\"want\\\", \\\"to\\\", \\\"spend\\\", \\\"time\\\", \\\"uh\\\", \\\"on\\\", \\\"the\\\", \\\"internet\\\", \\\"or\\\", \\\"YouTube\\\", \\\"or\\\", \\\"some\\\", \\\"something\\\", \\\"like\\\", \\\"that\\\", \\\"uh-huh\\\", \\\"so\\\", \\\"because\\\", \\\"uh\\\", \\\"I\\\", \\\"have\\\", \\\"a\\\", \\\"nephew\\\"],\\n        \\\"28:08\\\": [\\\"Uh-huh\\\", \\\"yes\\\", \\\"nephew\\\", \\\"yes\\\", \\\"I\\\", \\\"have\\\", \\\"a\\\", \\\"nephew\\\", \\\"and\\\", \\\"uh\\\", \\\"he\\\", \\\"is\\\", \\\"uh\\\", \\\"uh\\\", \\\"three\\\", \\\"or\\\", \\\"four\\\", \\\"years\\\", \\\"old\\\", \\\"and\\\", \\\"he\\\", \\\"cannot\\\", \\\"he\\\", \\\"always\\\", \\\"cannot\\\", \\\"stop\\\", \\\"to\\\", \\\"watch\\\", \\\"the\\\", \\\"YouTube\\\", \\\"shows\\\", \\\"so\\\", \\\"always\\\", \\\"uh\\\", \\\"my\\\", \\\"sister\\\", \\\"uh\\\", \\\"take\\\", \\\"his\\\", \\\"smartphone\\\", \\\"take\\\", \\\"out\\\", \\\"take\\\"],\\n        \\\"29:01\\\": [\\\"Take\\\", \\\"away\\\"],\\n        \\\"29:05\\\": [\\\"Take\\\", \\\"away\\\", \\\"yes\\\", \\\"take\\\", \\\"away\\\", \\\"from\\\", \\\"him\\\", \\\"so\\\", \\\"yeah\\\", \\\"it\\'s\\\", \\\"the\\\", \\\"time\\\", \\\"restriction\\\", \\\"is\\\", \\\"uh\\\"],\\n        \\\"29:36\\\": [\\\"good\\\", \\\"way\\\", \\\"to\\\", \\\"um\\\", \\\"prevent\\\", \\\"uh\\\"],\\n        \\\"29:50\\\": [\\\"spending\\\", \\\"a\\\", \\\"lot\\\", \\\"of\\\", \\\"time\\\", \\\"on\\\", \\\"the\\\", \\\"in\\\", \\\"internet\\\"],\\n        \\\"30:04\\\": [\\\"Uh-huh\\\", \\\"uh-huh\\\"],\\n        \\\"30:10\\\": [\\\"Um\\\", \\\"okay\\\", \\\"yeah\\\", \\\"I\\\", \\\"agree\\\", \\\"so\\\", \\\"you\\\", \\\"think\\\", \\\"that\\\", \\\"they\\\", \\\"don\\'t\\\", \\\"have\\\"],\\n        \\\"30:35\\\": [\\\"um\\\", \\\"the\\\", \\\"self\\\", \\\"restraint\\\", \\\"required\\\", \\\"to\\\", \\\"control\\\", \\\"the\\\", \\\"time\\\", \\\"they\\\", \\\"spend\\\", \\\"scrolling\\\", \\\"on\\\", \\\"social\\\", \\\"media\\\"],\\n        \\\"31:01\\\": [\\\"Uh-huh\\\", \\\"yes\\\"],\\n        \\\"31:09\\\": [\\\"Self\\\", \\\"restraint\\\", \\\"uh-huh\\\", \\\"self\\\", \\\"restraint\\\"],\\n        \\\"31:23\\\": [\\\"So\\\", \\\"self\\\", \\\"restraint\\\", \\\"is\\\", \\\"to\\\", \\\"to\\\", \\\"have\\\", \\\"the\\\", \\\"ability\\\", \\\"to\\\", \\\"control\\\", \\\"yourself\\\", \\\"and\\\", \\\"your\\\", \\\"desires\\\"],\\n        \\\"31:47\\\": [\\\"Uh-huh\\\", \\\"uh-huh\\\", \\\"I\\\", \\\"see\\\", \\\"I\\\", \\\"see\\\", \\\"self\\\", \\\"restraint\\\", \\\"required\\\", \\\"to\\\", \\\"control\\\", \\\"the\\\", \\\"time\\\"],\\n        \\\"32:04\\\": [\\\"Yes\\\", \\\"spend\\\", \\\"scrolling\\\", \\\"on\\\", \\\"that\\'s\\\", \\\"right\\\"],\\n        \\\"32:25\\\": [\\\"Okay\\\", \\\"good\\\", \\\"point\\\", \\\"um\\\", \\\"all\\\", \\\"right\\\", \\\"number\\\", \\\"four\\\", \\\"criminals\\\", \\\"should\\\", \\\"not\\\", \\\"be\\\", \\\"allowed\\\", \\\"to\\\", \\\"use\\\", \\\"social\\\", \\\"networking\\\", \\\"sites\\\"],\\n        \\\"33:01\\\": [\\\"Wow\\\", \\\"yeah\\\", \\\"yes\\\", \\\"I\\\", \\\"agree\\\", \\\"with\\\", \\\"this\\\", \\\"statement\\\", \\\"and\\\", \\\"criminals\\\", \\\"means\\\", \\\"that\\\", \\\"the\\\", \\\"they\\\", \\\"are\\\", \\\"who\\\", \\\"people\\\", \\\"who\\\", \\\"is\\\", \\\"arrested\\\", \\\"or\\\", \\\"who\\\", \\\"is\\\", \\\"convicted\\\", \\\"yeah\\\", \\\"convicted\\\"],\\n        \\\"33:51\\\": [\\\"Okay\\\", \\\"yes\\\"],\\n        \\\"33:58\\\": [\\\"And\\\", \\\"also\\\", \\\"in\\\", \\\"my\\\", \\\"opinion\\\", \\\"people\\\", \\\"who\\\", \\\"cannot\\\", \\\"uh\\\", \\\"distinguish\\\", \\\"the\\\", \\\"true\\\", \\\"or\\\", \\\"false\\\", \\\"the\\\", \\\"right\\\", \\\"from\\\", \\\"wrong\\\", \\\"yeah\\\", \\\"right\\\", \\\"or\\\", \\\"wrong\\\", \\\"and\\\", \\\"uh\\\", \\\"or\\\", \\\"cannot\\\", \\\"find\\\", \\\"the\\\", \\\"the\\\", \\\"source\\\", \\\"of\\\", \\\"the\\\", \\\"news\\\"],\\n        \\\"34:58\\\": [\\\"uh\\\", \\\"also\\\", \\\"cannot\\\", \\\"cannot\\\", \\\"uh\\\", \\\"do\\\", \\\"not\\\", \\\"how\\\", \\\"can\\\", \\\"I\\\", \\\"say\\\", \\\"do\\\", \\\"not\\\", \\\"use\\\", \\\"the\\\", \\\"social\\\", \\\"networking\\\", \\\"services\\\", \\\"or\\\", \\\"them\\\", \\\"do\\\", \\\"not\\\", \\\"it\\'s\\\", \\\"not\\\", \\\"good\\\", \\\"for\\\", \\\"it\\'s\\\", \\\"not\\\", \\\"how\\\", \\\"can\\\", \\\"I\\\", \\\"say\\\", \\\"I\\\", \\\"want\\\", \\\"to\\\", \\\"say\\\"],\\n        \\\"35:49\\\": [\\\"people\\\", \\\"who\\\", \\\"sorry\\\", \\\"uh\\\"],\\n        \\\"35:57\\\": [\\\"Okay\\\", \\\"people\\\", \\\"should\\\", \\\"not\\\", \\\"be\\\", \\\"allowed\\\", \\\"uh\\\", \\\"to\\\", \\\"use\\\", \\\"social\\\", \\\"networking\\\", \\\"sites\\\", \\\"no\\\", \\\"sorry\\\", \\\"people\\\", \\\"who\\\", \\\"cannot\\\", \\\"distinguish\\\", \\\"to\\\", \\\"uh\\\", \\\"right\\\", \\\"or\\\", \\\"wrong\\\", \\\"or\\\", \\\"cannot\\\", \\\"find\\\", \\\"the\\\", \\\"uh\\\", \\\"source\\\", \\\"of\\\", \\\"the\\\", \\\"news\\\", \\\"also\\\", \\\"should\\\", \\\"not\\\", \\\"be\\\", \\\"allowed\\\", \\\"to\\\", \\\"use\\\", \\\"social\\\", \\\"networking\\\", \\\"sites\\\", \\\"because\\\", \\\"uh\\\", \\\"they\\\", \\\"uh\\\", \\\"easy\\\", \\\"to\\\", \\\"spread\\\", \\\"the\\\", \\\"wrong\\\", \\\"uh\\\", \\\"information\\\", \\\"and\\\", \\\"uh\\\", \\\"mostly\\\", \\\"they\\\", \\\"are\\\", \\\"very\\\", \\\"aggressive\\\", \\\"to\\\", \\\"spread\\\", \\\"or\\\", \\\"false\\\", \\\"their\\\", \\\"opinion\\\", \\\"to\\\", \\\"others\\\", \\\"so\\\", \\\"yeah\\\", \\\"in\\\", \\\"this\\\", \\\"statement\\\", \\\"criminals\\\", \\\"the\\\", \\\"for\\\", \\\"example\\\", \\\"free\\\", \\\"criminals\\\", \\\"uh\\\", \\\"should\\\", \\\"not\\\", \\\"be\\\", \\\"allowed\\\", \\\"uh\\\", \\\"because\\\", \\\"they\\\", \\\"can\\\", \\\"they\\\", \\\"can\\\", \\\"invite\\\", \\\"their\\\", \\\"criminal\\\", \\\"criminal\\\", \\\"their\\\", \\\"scheme\\\", \\\"uh\\\", \\\"we\\\", \\\"discuss\\\", \\\"so\\\", \\\"for\\\", \\\"example\\\", \\\"recently\\\"],\\n        \\\"38:58\\\": [\\\"in\\\", \\\"Japan\\\", \\\"the\\\", \\\"this\\\", \\\"kind\\\", \\\"of\\\", \\\"uh\\\", \\\"social\\\", \\\"net\\\", \\\"uh\\\", \\\"the\\\", \\\"criminal\\\", \\\"criminals\\\", \\\"uh\\\", \\\"using\\\", \\\"the\\\", \\\"social\\\", \\\"networking\\\", \\\"services\\\", \\\"is\\\", \\\"quite\\\", \\\"popular\\\", \\\"yeah\\\"],\\n        \\\"39:31\\\": [\\\"So\\\", \\\"they\\\", \\\"find\\\", \\\"the\\\", \\\"young\\\", \\\"people\\\", \\\"who\\\"],\\n        \\\"39:48\\\": [\\\"doesn\\'t\\\", \\\"have\\\", \\\"the\\\", \\\"money\\\", \\\"uh\\\", \\\"to\\\", \\\"they\\\", \\\"are\\\", \\\"criminal\\\", \\\"like\\\", \\\"uh\\\", \\\"fraud\\\", \\\"fraud\\\", \\\"scheme\\\", \\\"fraud\\\", \\\"scheme\\\", \\\"or\\\", \\\"fraud\\\", \\\"for\\\", \\\"the\\\", \\\"older\\\", \\\"people\\\", \\\"like\\\", \\\"uh\\\", \\\"they\\\", \\\"pretend\\\", \\\"to\\\", \\\"be\\\", \\\"uh\\\", \\\"their\\\", \\\"grandson\\\", \\\"or\\\", \\\"grand\\\"],\\n        \\\"40:38\\\": [\\\"Yeah\\\", \\\"grandson\\\", \\\"or\\\", \\\"granddaughter\\\", \\\"yeah\\\"],\\n        \\\"40:48\\\": [\\\"Yeah\\\", \\\"granddaughter\\\", \\\"yes\\\", \\\"to\\\", \\\"steal\\\", \\\"the\\\", \\\"steal\\\", \\\"the\\\", \\\"money\\\"],\\n        \\\"41:05\\\": [\\\"So\\\", \\\"that\\'s\\\", \\\"why\\\", \\\"I\\\", \\\"agree\\\", \\\"this\\\", \\\"statement\\\"],\\n        \\\"41:21\\\": [\\\"Yeah\\\", \\\"that\\'s\\\", \\\"a\\\", \\\"that\\'s\\\", \\\"a\\\", \\\"very\\\", \\\"you\\'ve\\\", \\\"made\\\", \\\"some\\\", \\\"really\\\", \\\"good\\\", \\\"points\\\", \\\"here\\\", \\\"and\\\", \\\"yeah\\\", \\\"I\\\", \\\"think\\\"],\\n        \\\"41:46\\\": [\\\"scamming\\\", \\\"people\\\", \\\"on\\\", \\\"social\\\", \\\"media\\\", \\\"has\\\", \\\"become\\\"],\\n        \\\"41:57\\\": [\\\"very\\\", \\\"frequent\\\", \\\"in\\\", \\\"many\\\", \\\"countries\\\", \\\"yeah\\\", \\\"uh-huh\\\", \\\"of\\\", \\\"course\\\", \\\"yes\\\", \\\"yes\\\", \\\"yes\\\"],\\n        \\\"42:18\\\": [\\\"Your\\\", \\\"country\\\", \\\"is\\\", \\\"also\\\", \\\"popular\\\", \\\"for\\\", \\\"this\\\", \\\"kind\\\", \\\"of\\\", \\\"fraud\\\", \\\"uh\\\", \\\"crowd\\\"],\\n        \\\"42:40\\\": [\\\"Yeah\\\", \\\"it\\'s\\\", \\\"kind\\\", \\\"of\\\", \\\"it\\'s\\\", \\\"now\\\", \\\"people\\\", \\\"got\\\", \\\"used\\\", \\\"to\\\", \\\"it\\\", \\\"so\\\", \\\"it\\'s\\\", \\\"people\\\", \\\"don\\'t\\\", \\\"fall\\\", \\\"for\\\", \\\"it\\\", \\\"right\\\", \\\"now\\\", \\\"like\\\", \\\"they\\\", \\\"used\\\", \\\"to\\\", \\\"a\\\", \\\"few\\\", \\\"years\\\", \\\"ago\\\", \\\"because\\\", \\\"it\\\", \\\"became\\\", \\\"so\\\", \\\"obvious\\\", \\\"but\\\", \\\"they\\\", \\\"always\\\", \\\"find\\\", \\\"new\\\", \\\"ways\\\", \\\"they\\\", \\\"always\\\", \\\"find\\\", \\\"new\\\", \\\"ways\\\", \\\"to\\\", \\\"scam\\\", \\\"people\\\", \\\"uh\\\", \\\"yes\\\", \\\"yes\\\", \\\"yes\\\", \\\"that\\'s\\\", \\\"right\\\", \\\"yeah\\\"],\\n        \\\"44:16\\\": [\\\"Yeah\\\", \\\"de\\\", \\\"certainly\\\", \\\"Japan\\\", \\\"has\\\", \\\"a\\\", \\\"more\\\", \\\"older\\\", \\\"people\\\", \\\"than\\\", \\\"younger\\\", \\\"people\\\", \\\"so\\\", \\\"and\\\", \\\"older\\\", \\\"people\\\", \\\"does\\\", \\\"not\\\", \\\"have\\\", \\\"the\\\", \\\"good\\\", \\\"literacy\\\", \\\"for\\\", \\\"the\\\", \\\"internet\\\", \\\"IT\\\", \\\"so\\\", \\\"they\\\", \\\"are\\\", \\\"really\\\", \\\"easy\\\", \\\"to\\\"],\\n        \\\"45:06\\\": [\\\"how\\\", \\\"can\\\", \\\"I\\\", \\\"say\\\", \\\"trust\\\", \\\"trust\\\", \\\"the\\\", \\\"trust\\\", \\\"the\\\", \\\"son\\\", \\\"or\\\", \\\"daughter\\\", \\\"uh\\\", \\\"fraud\\\", \\\"sorry\\\", \\\"fraud\\\", \\\"daughter\\\", \\\"or\\\", \\\"recently\\\", \\\"another\\\", \\\"fraud\\\", \\\"is\\\", \\\"also\\\", \\\"popular\\\", \\\"like\\\", \\\"uh\\\", \\\"pretending\\\", \\\"to\\\", \\\"be\\\", \\\"a\\\", \\\"rich\\\", \\\"person\\\", \\\"yeah\\\", \\\"to\\\", \\\"to\\\"],\\n        \\\"46:15\\\": [\\\"to\\\", \\\"lure\\\", \\\"to\\\", \\\"lure\\\", \\\"someone\\\"],\\n        \\\"46:23\\\": [\\\"Yeah\\\", \\\"yeah\\\", \\\"yeah\\\", \\\"uh-huh\\\", \\\"to\\\", \\\"lure\\\", \\\"lure\\\", \\\"lure\\\", \\\"means\\\", \\\"that\\\", \\\"the\\\"],\\n        \\\"46:40\\\": [\\\"to\\\", \\\"attract\\\"],\\n        \\\"46:44\\\": [\\\"attract\\\", \\\"uh-huh\\\", \\\"uh-huh\\\", \\\"yes\\\", \\\"yes\\\", \\\"yes\\\", \\\"but\\\", \\\"but\\\", \\\"when\\\", \\\"you\\\", \\\"say\\\", \\\"lure\\\", \\\"it\\'s\\\", \\\"attract\\\", \\\"but\\\", \\\"with\\\", \\\"negative\\\", \\\"intentions\\\"],\\n        \\\"47:14\\\": [\\\"Uh-huh\\\", \\\"so\\\", \\\"like\\\", \\\"fake\\\", \\\"fake\\\", \\\"how\\\", \\\"can\\\", \\\"I\\\", \\\"say\\\", \\\"it\\\", \\\"like\\\", \\\"you\\'re\\\", \\\"I\\'m\\\", \\\"I\\'m\\\", \\\"attracting\\\", \\\"you\\\", \\\"because\\\", \\\"I\\\", \\\"want\\\", \\\"to\\\", \\\"do\\\", \\\"something\\\", \\\"wrong\\\", \\\"uh-huh\\\", \\\"uh-huh\\\", \\\"that\\'s\\\", \\\"lure\\\", \\\"so\\\", \\\"they\\\", \\\"pretend\\\", \\\"to\\\", \\\"be\\\", \\\"uh\\\", \\\"rich\\\", \\\"to\\\", \\\"lure\\\", \\\"someone\\\", \\\"in\\\", \\\"so\\\", \\\"they\\\", \\\"can\\\", \\\"scam\\\", \\\"them\\\", \\\"uh-huh\\\", \\\"so\\\", \\\"similar\\\", \\\"meaning\\\", \\\"cheat\\\", \\\"cheat\\\", \\\"is\\\", \\\"same\\\", \\\"similar\\\", \\\"it\\'s\\\", \\\"in\\\", \\\"the\\\", \\\"same\\\", \\\"family\\\", \\\"but\\\", \\\"not\\\", \\\"the\\\", \\\"same\\\", \\\"meaning\\\", \\\"no\\\"],\\n        \\\"49:07\\\": [\\\"Oh\\\", \\\"okay\\\", \\\"okay\\\", \\\"I\\\", \\\"understand\\\", \\\"thank\\\", \\\"you\\\", \\\"so\\\", \\\"much\\\", \\\"sure\\\", \\\"um\\\", \\\"okay\\\", \\\"let\\'s\\\", \\\"see\\\", \\\"the\\\", \\\"last\\\", \\\"one\\\", \\\"social\\\", \\\"networking\\\", \\\"sites\\\", \\\"are\\\", \\\"the\\\", \\\"best\\\", \\\"invention\\\", \\\"of\\\", \\\"the\\\", \\\"21st\\\", \\\"century\\\"],\\n        \\\"49:56\\\": [\\\"Yeah\\\", \\\"partially\\\", \\\"I\\\", \\\"agree\\\", \\\"best\\\", \\\"invention\\\", \\\"for\\\", \\\"the\\\", \\\"the\\\", \\\"big\\\", \\\"tech\\\", \\\"company\\\", \\\"because\\\", \\\"uh\\\", \\\"yeah\\\", \\\"they\\\", \\\"can\\\", \\\"they\\\", \\\"can\\\", \\\"collect\\\", \\\"attract\\\", \\\"uh\\\", \\\"bunch\\\", \\\"of\\\", \\\"money\\\", \\\"and\\\", \\\"uh\\\", \\\"also\\\", \\\"they\\\", \\\"yeah\\\", \\\"they\\\", \\\"are\\\", \\\"found\\\", \\\"found\\\", \\\"a\\\", \\\"good\\\", \\\"scheme\\\", \\\"of\\\"],\\n        \\\"51:08\\\": [\\\"attracting\\\", \\\"people\\\", \\\"to\\\", \\\"the\\\", \\\"one\\\", \\\"application\\\", \\\"so\\\", \\\"and\\\", \\\"also\\\", \\\"I\\\", \\\"I\\\", \\\"know\\\", \\\"that\\\", \\\"there\\\", \\\"is\\\", \\\"a\\\", \\\"good\\\", \\\"aspects\\\", \\\"of\\\", \\\"the\\\", \\\"social\\\", \\\"networking\\\", \\\"sites\\\", \\\"because\\\", \\\"uh\\\", \\\"we\\\", \\\"can\\\", \\\"connect\\\", \\\"uh\\\", \\\"with\\\", \\\"uh\\\", \\\"friends\\\", \\\"uh\\\", \\\"old\\\", \\\"friends\\\", \\\"and\\\", \\\"also\\\", \\\"family\\\", \\\"in\\\", \\\"so\\\", \\\"it\\'s\\\", \\\"very\\\", \\\"easy\\\", \\\"to\\\", \\\"communicate\\\", \\\"uh\\\", \\\"them\\\", \\\"and\\\", \\\"uh\\\", \\\"easy\\\", \\\"to\\\", \\\"exchange\\\", \\\"uh\\\", \\\"our\\\", \\\"status\\\", \\\"current\\\", \\\"status\\\", \\\"uh\\\", \\\"communicate\\\", \\\"means\\\", \\\"yes\\\", \\\"so\\\", \\\"yeah\\\", \\\"so\\\", \\\"there\\\", \\\"are\\\", \\\"some\\\", \\\"advantages\\\", \\\"but\\\", \\\"uh\\\", \\\"also\\\", \\\"there\\\", \\\"are\\\", \\\"uh\\\", \\\"some\\\", \\\"disadvantages\\\", \\\"in\\\", \\\"uh\\\", \\\"social\\\", \\\"networking\\\", \\\"sites\\\"],\\n        \\\"53:30\\\": [\\\"Yeah\\\", \\\"I\\\", \\\"agree\\\", \\\"for\\\", \\\"sure\\\", \\\"um\\\", \\\"and\\\", \\\"uh\\\", \\\"I\\\", \\\"mean\\\", \\\"I\\\", \\\"think\\\", \\\"I\\\", \\\"remember\\\", \\\"when\\\", \\\"Facebook\\\", \\\"first\\\", \\\"became\\\", \\\"popular\\\", \\\"and\\\", \\\"people\\\", \\\"started\\\", \\\"to\\\", \\\"use\\\", \\\"it\\\", \\\"it\\\", \\\"was\\\", \\\"really\\\", \\\"nice\\\", \\\"and\\\", \\\"people\\\", \\\"love\\\", \\\"the\\\", \\\"idea\\\", \\\"that\\\", \\\"you\\\", \\\"could\\\", \\\"just\\\", \\\"search\\\", \\\"for\\\"],\\n        \\\"54:17\\\": [\\\"an\\\", \\\"old\\\", \\\"friend\\\", \\\"and\\\", \\\"find\\\", \\\"them\\\", \\\"so\\\", \\\"yeah\\\", \\\"it\\\", \\\"was\\\", \\\"good\\\", \\\"for\\\", \\\"a\\\", \\\"while\\\", \\\"and\\\", \\\"then\\\", \\\"people\\\", \\\"ruined\\\", \\\"it\\\"],\\n        \\\"54:47\\\": [\\\"Yeah\\\", \\\"yeah\\\", \\\"yeah\\\", \\\"mostly\\\", \\\"the\\\", \\\"bad\\\", \\\"people\\\", \\\"find\\\", \\\"the\\\", \\\"bad\\\", \\\"way\\\", \\\"to\\\", \\\"use\\\", \\\"use\\\", \\\"of\\\", \\\"this\\\", \\\"application\\\", \\\"so\\\", \\\"that\\'s\\\", \\\"why\\\", \\\"if\\\", \\\"you\\\", \\\"use\\\", \\\"in\\\", \\\"only\\\", \\\"positive\\\", \\\"way\\\", \\\"I\\\", \\\"think\\\", \\\"uh\\\", \\\"this\\\", \\\"application\\\", \\\"is\\\", \\\"a\\\", \\\"very\\\", \\\"good\\\", \\\"uh\\\", \\\"best\\\", \\\"invention\\\", \\\"of\\\", \\\"the\\\", \\\"this\\\", \\\"century\\\"],\\n        \\\"56:02\\\": [\\\"Yeah\\\", \\\"I\\\", \\\"agree\\\", \\\"I\\\", \\\"agree\\\", \\\"well\\\", \\\"this\\\", \\\"was\\\", \\\"a\\\", \\\"an\\\", \\\"interesting\\\", \\\"topic\\\", \\\"and\\\", \\\"a\\\", \\\"lovely\\\", \\\"conversation\\\"],\\n        \\\"56:28\\\": [\\\"Yeah\\\", \\\"thank\\\", \\\"you\\\", \\\"thank\\\", \\\"you\\\", \\\"so\\\", \\\"much\\\", \\\"and\\\", \\\"thank\\\", \\\"you\\\", \\\"for\\\", \\\"correcting\\\", \\\"a\\\", \\\"lot\\\", \\\"of\\\", \\\"my\\\", \\\"uh\\\", \\\"words\\\"],\\n        \\\"56:55\\\": [\\\"That\\'s\\\", \\\"okay\\\", \\\"yeah\\\", \\\"but\\\", \\\"you\\'re\\\", \\\"doing\\\", \\\"very\\\", \\\"well\\\", \\\"you\\'re\\\", \\\"you\\'ve\\\", \\\"done\\\", \\\"really\\\", \\\"great\\\"],\\n        \\\"57:14\\\": [\\\"Thank\\\", \\\"you\\\"],\\n        \\\"57:18\\\": [\\\"You\\'re\\\", \\\"welcome\\\", \\\"all\\\", \\\"right\\\", \\\"well\\\", \\\"uh\\\", \\\"enjoy\\\", \\\"your\\\", \\\"evening\\\", \\\"and\\\", \\\"uh\\\", \\\"hope\\\", \\\"to\\\", \\\"see\\\", \\\"you\\\", \\\"again\\\", \\\"soon\\\"],\\n        \\\"57:45\\\": [\\\"Yeah\\\", \\\"you\\\", \\\"too\\\", \\\"and\\\", \\\"uh\\\", \\\"have\\\", \\\"a\\\", \\\"good\\\", \\\"day\\\", \\\"goodbye\\\", \\\"bye\\\"]\\n    },\\n    \\\"Speaker B\\\": {\\n        \\\"0:01\\\": [\\\"Hi\\\"],\\n        \\\"0:03\\\": [\\\"Hi\\\"],\\n        \\\"0:06\\\": [\\\"Yeah\\\", \\\"I\\\", \\\"can\\\", \\\"hear\\\", \\\"you\\\", \\\"but\\\", \\\"I\\\", \\\"can\\'t\\\", \\\"I\\\", \\\"can\\'t\\\", \\\"see\\\", \\\"you\\\", \\\"Oh\\\", \\\"okay\\\", \\\"uh\\\", \\\"1\\\", \\\"second\\\", \\\"locked\\\"],\\n        \\\"0:15\\\": [\\\"Okay\\\"],\\n        \\\"0:21\\\": [\\\"Yeah\\\", \\\"that\\'s\\\", \\\"fine\\\", \\\"yeah\\\", \\\"I\\'m\\\", \\\"okay\\\"],\\n        \\\"0:28\\\": [\\\"Yeah\\\", \\\"I\\'m\\\", \\\"I\\'m\\\", \\\"good\\\", \\\"and\\\", \\\"uh\\\", \\\"yeah\\\", \\\"sorry\\\", \\\"I\\\", \\\"have\\\", \\\"a\\\", \\\"good\\\", \\\"yes\\\"],\\n        \\\"0:42\\\": [\\\"Yes\\\", \\\"uh\\\", \\\"I\\\", \\\"let\\\", \\\"me\\\", \\\"introduce\\\", \\\"myself\\\", \\\"briefly\\\"],\\n        \\\"0:49\\\": [\\\"Okay\\\", \\\"uh\\\", \\\"my\\\", \\\"name\\\", \\\"is\\\", \\\"Yusuke\\\", \\\"and\\\", \\\"now\\\", \\\"I\\'m\\\", \\\"31\\\", \\\"years\\\", \\\"old\\\", \\\"and\\\", \\\"I\\'m\\\", \\\"living\\\", \\\"in\\\", \\\"Tokyo\\\", \\\"and\\\", \\\"working\\\", \\\"at\\\", \\\"the\\\", \\\"company\\\", \\\"as\\\", \\\"an\\\", \\\"IT\\\", \\\"engineer\\\", \\\"and\\\", \\\"uh\\\", \\\"in\\\", \\\"my\\\", \\\"free\\\", \\\"time\\\", \\\"I\\\", \\\"like\\\", \\\"to\\\", \\\"go\\\", \\\"to\\\", \\\"gym\\\", \\\"to\\\", \\\"workout\\\", \\\"uh\\\", \\\"watching\\\", \\\"Netflix\\\", \\\"go\\\", \\\"to\\\", \\\"uh\\\", \\\"go\\\", \\\"hiking\\\", \\\"and\\\", \\\"uh\\\", \\\"playing\\\", \\\"video\\\", \\\"game\\\", \\\"so\\\", \\\"that\\'s\\\", \\\"my\\\", \\\"introduction\\\", \\\"nice\\\", \\\"to\\\", \\\"meet\\\", \\\"you\\\"],\\n        \\\"2:01\\\": [\\\"Thank\\\", \\\"you\\\", \\\"nice\\\", \\\"to\\\", \\\"meet\\\", \\\"you\\\", \\\"too\\\", \\\"thanks\\\", \\\"for\\\", \\\"sharing\\\"],\\n        \\\"2:13\\\": [\\\"M-hm\\\"],\\n        \\\"2:46\\\": [\\\"M-hm\\\"],\\n        \\\"3:07\\\": [\\\"Thank\\\", \\\"you\\\"],\\n        \\\"3:45\\\": [\\\"Sure\\\"],\\n        \\\"4:06\\\": [\\\"Well\\\"],\\n        \\\"4:22\\\": [\\\"What\\\", \\\"is\\\", \\\"it\\\"],\\n        \\\"4:32\\\": [\\\"Well\\\", \\\"yeah\\\", \\\"I\\\", \\\"agree\\\", \\\"with\\\", \\\"this\\\", \\\"opinion\\\", \\\"because\\\", \\\"uh\\\", \\\"because\\\", \\\"the\\\", \\\"social\\\", \\\"media\\\", \\\"sites\\\", \\\"and\\\", \\\"application\\\", \\\"or\\\", \\\"applications\\\", \\\"are\\\", \\\"very\\\", \\\"addictive\\\", \\\"for\\\", \\\"the\\\", \\\"people\\\", \\\"so\\\", \\\"kids\\\", \\\"and\\\", \\\"uh\\\", \\\"children\\\", \\\"uh\\\", \\\"cannot\\\", \\\"uh\\\", \\\"stop\\\", \\\"to\\\", \\\"watch\\\", \\\"the\\\", \\\"the\\\", \\\"application\\\", \\\"every\\\", \\\"time\\\", \\\"so\\\", \\\"at\\\", \\\"least\\\", \\\"I\\\", \\\"think\\\", \\\"we\\\", \\\"need\\\", \\\"the\\\", \\\"like\\\", \\\"uh\\\", \\\"time\\\", \\\"restrictions\\\", \\\"uh\\\", \\\"\"\n",
      "    }\n",
      "  }\n",
      "  finish_reason: MAX_TOKENS\n",
      "  safety_ratings {\n",
      "    category: HARM_CATEGORY_HATE_SPEECH\n",
      "    probability: LOW\n",
      "    probability_score: 0.2890625\n",
      "    severity: HARM_SEVERITY_LOW\n",
      "    severity_score: 0.28125\n",
      "  }\n",
      "  safety_ratings {\n",
      "    category: HARM_CATEGORY_DANGEROUS_CONTENT\n",
      "    probability: NEGLIGIBLE\n",
      "    probability_score: 0.30859375\n",
      "    severity: HARM_SEVERITY_LOW\n",
      "    severity_score: 0.326171875\n",
      "  }\n",
      "  safety_ratings {\n",
      "    category: HARM_CATEGORY_HARASSMENT\n",
      "    probability: NEGLIGIBLE\n",
      "    probability_score: 0.431640625\n",
      "    severity: HARM_SEVERITY_LOW\n",
      "    severity_score: 0.32421875\n",
      "  }\n",
      "  safety_ratings {\n",
      "    category: HARM_CATEGORY_SEXUALLY_EXPLICIT\n",
      "    probability: NEGLIGIBLE\n",
      "    probability_score: 0.248046875\n",
      "    severity: HARM_SEVERITY_LOW\n",
      "    severity_score: 0.38671875\n",
      "  }\n",
      "}\n",
      "usage_metadata {\n",
      "  prompt_token_count: 45439\n",
      "  candidates_token_count: 8192\n",
      "  total_token_count: 53631\n",
      "}\n",
      "\n"
     ]
    }
   ],
   "source": [
    "print(response)"
   ]
  },
  {
   "cell_type": "code",
   "execution_count": 4,
   "metadata": {},
   "outputs": [
    {
     "data": {
      "text/plain": [
       "<_io.BufferedRandom name='assets/first_five_min.mp3'>"
      ]
     },
     "execution_count": 4,
     "metadata": {},
     "output_type": "execute_result"
    }
   ],
   "source": [
    "from pydub import AudioSegment\n",
    "\n",
    "# Load the audio file\n",
    "audio = AudioSegment.from_file(\"assets/lesson.webm\")\n",
    "\n",
    "# Calculate the half point of the audio\n",
    "five_min = len(audio) // 6\n",
    "\n",
    "# # Split the audio into two halves\n",
    "first_five_min = audio[:five_min]\n",
    "# second_half = audio[half_point:]\n",
    "\n",
    "# # Export the two halves as MP3 files\n",
    "# first_half.export(\"assets/first_half.mp3\", format=\"mp3\")\n",
    "# second_half.export(\"second_half.mp3\", format=\"mp3\")\n",
    "\n",
    "first_five_min.export(\"assets/first_five_min.mp3\", format=\"mp3\")"
   ]
  },
  {
   "cell_type": "code",
   "execution_count": null,
   "metadata": {},
   "outputs": [],
   "source": [
    "print()\n"
   ]
  }
 ],
 "metadata": {
  "kernelspec": {
   "display_name": "Python 3",
   "language": "python",
   "name": "python3"
  },
  "language_info": {
   "codemirror_mode": {
    "name": "ipython",
    "version": 3
   },
   "file_extension": ".py",
   "mimetype": "text/x-python",
   "name": "python",
   "nbconvert_exporter": "python",
   "pygments_lexer": "ipython3",
   "version": "3.10.0"
  }
 },
 "nbformat": 4,
 "nbformat_minor": 2
}
