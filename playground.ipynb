{
 "cells": [
  {
   "cell_type": "code",
   "execution_count": 5,
   "metadata": {},
   "outputs": [
    {
     "name": "stderr",
     "output_type": "stream",
     "text": [
      "WARNING: All log messages before absl::InitializeLog() is called are written to STDERR\n",
      "I0000 00:00:1723354289.821774    2075 check_gcp_environment.cc:61] BIOS data file does not exist or cannot be opened.\n"
     ]
    },
    {
     "name": "stdout",
     "output_type": "stream",
     "text": [
      "Transcript: how old is the Brooklyn Bridge\n"
     ]
    }
   ],
   "source": [
    "from google.cloud import speech\n",
    "\n",
    "client = speech.SpeechClient()\n",
    "\n",
    "gcs_uri = \"gs://cloud-samples-data/speech/brooklyn_bridge.raw\"\n",
    "\n",
    "audio = speech.RecognitionAudio(uri=gcs_uri)\n",
    "\n",
    "config = speech.RecognitionConfig(\n",
    "    encoding = speech.RecognitionConfig.AudioEncoding.LINEAR16,\n",
    "    sample_rate_hertz = 16000,\n",
    "    language_code=\"en-US\",\n",
    ")\n",
    "\n",
    "response = client.recognize(config = config, audio = audio)\n",
    "\n",
    "for result in response.results:\n",
    "    print(\"Transcript: {}\".format(result.alternatives[0].transcript))"
   ]
  },
  {
   "cell_type": "code",
   "execution_count": 7,
   "metadata": {},
   "outputs": [
    {
     "data": {
      "text/plain": [
       "1"
      ]
     },
     "execution_count": 7,
     "metadata": {},
     "output_type": "execute_result"
    }
   ],
   "source": [
    "len(response.results)"
   ]
  },
  {
   "cell_type": "markdown",
   "metadata": {},
   "source": [
    "## Using LangChain"
   ]
  },
  {
   "cell_type": "code",
   "execution_count": 2,
   "metadata": {},
   "outputs": [],
   "source": [
    "from langchain_core.messages import HumanMessage\n",
    "from langchain_google_genai import ChatGoogleGenerativeAI\n",
    "from google.generativeai.types.safety_types import HarmBlockThreshold, HarmCategory\n",
    "import json"
   ]
  },
  {
   "cell_type": "markdown",
   "metadata": {},
   "source": [
    "## Using VertexAI"
   ]
  },
  {
   "cell_type": "code",
   "execution_count": 4,
   "metadata": {},
   "outputs": [],
   "source": [
    "import vertexai\n",
    "from vertexai.generative_models import GenerativeModel, Part\n",
    "import json\n",
    "from google.cloud import speech"
   ]
  },
  {
   "cell_type": "code",
   "execution_count": 24,
   "metadata": {},
   "outputs": [
    {
     "name": "stdout",
     "output_type": "stream",
     "text": [
      "Transcript: how old is the Brooklyn Bridge\n",
      "Answer: text: \"The Brooklyn Bridge was completed in **1883**, so it\\'s currently **140 years old** (as of 2023). \\n\"\n",
      "\n"
     ]
    }
   ],
   "source": [
    "with open(\"environments/env.json\") as f:\n",
    "    env = json.load(f)\n",
    "\n",
    "client = speech.SpeechClient()\n",
    "gcs_uri = env[\"sample_audio_file\"]\n",
    "audio = speech.RecognitionAudio(uri=gcs_uri)\n",
    "\n",
    "config = speech.RecognitionConfig(\n",
    "    encoding = speech.RecognitionConfig.AudioEncoding.LINEAR16,\n",
    "    sample_rate_hertz = 16000,\n",
    "    language_code=\"en-US\",\n",
    ")\n",
    "\n",
    "s2t_response = client.recognize(config = config, audio = audio)\n",
    "\n",
    "vertexai.init(project = env[\"project_id\"], location=env[\"location\"])\n",
    "multimodal_model = GenerativeModel(\"gemini-1.5-flash-001\")\n",
    "for result in s2t_response.results:\n",
    "    response = multimodal_model.generate_content(\n",
    "        [\n",
    "            result.alternatives[0].transcript\n",
    "        ]\n",
    "    )\n",
    "    print(\"Transcript: {}\".format(result.alternatives[0].transcript))\n",
    "    print(\"Answer: {}\".format(response.candidates[0].content.parts[0]))"
   ]
  },
  {
   "cell_type": "code",
   "execution_count": 4,
   "metadata": {},
   "outputs": [
    {
     "name": "stderr",
     "output_type": "stream",
     "text": [
      "WARNING: All log messages before absl::InitializeLog() is called are written to STDERR\n",
      "I0000 00:00:1723358958.255696    3911 check_gcp_environment.cc:61] BIOS data file does not exist or cannot be opened.\n"
     ]
    },
    {
     "name": "stdout",
     "output_type": "stream",
     "text": [
      "Transcript: I'm Yusuke, and living in Tokyo, and working as IT engineer at the company.\n",
      "In my free time, I like to go to gym to workout, watching Netfilx, go hiking, and playing video game.\n",
      "Thank you, and nice to meet you.\n",
      "Answer: text: \"Let\\'s break down the sentence and make it sound more natural:\\n\\n**Incorrect Word/Grammar:**\\n\\n* **\\\"living in Tokyo\\\"**:  This is grammatically correct but can be improved.\\n* **\\\"working as IT engineer at the company\\\"**:  This is a bit awkward. It\\'s better to mention the company name if you\\'re comfortable sharing.\\n* **\\\"watching Netfilx\\\"**: The correct spelling is \\\"Netflix\\\".\\n* **\\\"go hiking\\\"**: This should be \\\"hiking\\\".\\n* **\\\"playing video game\\\"**:  This should be \\\"playing video games\\\".\\n\\n**Recommended Phrases:**\\n\\nHere are some more natural ways to phrase your introduction:\\n\\n1. **\\\"Hi, I\\'m Yusuke. I live in Tokyo and work as an IT engineer at [company name].\\\"** \\n2. **\\\"My name is Yusuke, and I\\'m an IT engineer based in Tokyo.\\\"**\\n3. **\\\"Hello, I\\'m Yusuke. I\\'m an IT engineer in Tokyo, and in my free time, I enjoy working out at the gym, watching Netflix, hiking, and playing video games.\\\"** \\n4. **\\\"Nice to meet you! I\\'m Yusuke. I\\'m an IT engineer in Tokyo.  I like to stay active by going to the gym and hiking, and I also enjoy relaxing with Netflix and video games.\\\"**\\n\\n**Key Improvements:**\\n\\n* **Clarity:**  The improved sentences are clearer and more concise.\\n* **Professionalism:**  They sound more professional and polished.\\n* **Flow:**  The phrases flow better and are easier to read.\\n\\nRemember, a good introduction should be clear, concise, and friendly.  You can tailor it to the specific situation and audience. \\n\"\n",
      "\n"
     ]
    }
   ],
   "source": [
    "import base64\n",
    "import vertexai\n",
    "from vertexai.generative_models import GenerativeModel, Part, SafetySetting, FinishReason\n",
    "import vertexai.preview.generative_models as generative_models\n",
    "import json\n",
    "\n",
    "def generate(project_id, location, human_text):\n",
    "    vertexai.init(project=project_id, location=location)\n",
    "    safety_settings = [\n",
    "        SafetySetting(\n",
    "            category=SafetySetting.HarmCategory.HARM_CATEGORY_HATE_SPEECH,\n",
    "            threshold=SafetySetting.HarmBlockThreshold.BLOCK_MEDIUM_AND_ABOVE\n",
    "        ),\n",
    "        SafetySetting(\n",
    "            category=SafetySetting.HarmCategory.HARM_CATEGORY_DANGEROUS_CONTENT,\n",
    "            threshold=SafetySetting.HarmBlockThreshold.BLOCK_MEDIUM_AND_ABOVE\n",
    "        ),\n",
    "        SafetySetting(\n",
    "            category=SafetySetting.HarmCategory.HARM_CATEGORY_SEXUALLY_EXPLICIT,\n",
    "            threshold=SafetySetting.HarmBlockThreshold.BLOCK_MEDIUM_AND_ABOVE\n",
    "        ),\n",
    "        SafetySetting(\n",
    "            category=SafetySetting.HarmCategory.HARM_CATEGORY_HARASSMENT,\n",
    "            threshold=SafetySetting.HarmBlockThreshold.BLOCK_MEDIUM_AND_ABOVE\n",
    "        ),\n",
    "    ]\n",
    "    instrcution = \"\"\"You are English professional teacher. Please point out uncorrect word and grammer. \n",
    "And also please generate three to five recommended useful phrase instead of unnatural tone.\"\"\"\n",
    "    generation_config = {\n",
    "        \"max_output_tokens\": 8192,\n",
    "        \"temperature\": 1,\n",
    "        \"top_p\": 0.95,\n",
    "    }\n",
    "\n",
    "    model = GenerativeModel(\n",
    "        \"gemini-1.5-flash-001\",\n",
    "        system_instruction=[instrcution]\n",
    "    )\n",
    "    response = model.generate_content(\n",
    "        [\n",
    "            human_text\n",
    "        ],\n",
    "        generation_config=generation_config,\n",
    "        safety_settings=safety_settings,\n",
    "        stream=False,\n",
    "    )\n",
    "\n",
    "    return response\n",
    "\n",
    "with open(\"environments/env.json\") as f:\n",
    "    env = json.load(f)\n",
    "\n",
    "human_text = \"\"\"I'm Yusuke, and living in Tokyo, and working as IT engineer at the company.\n",
    "In my free time, I like to go to gym to workout, watching Netfilx, go hiking, and playing video game.\n",
    "Thank you, and nice to meet you.\"\"\"\n",
    "\n",
    "response = generate(env[\"project_id\"], env[\"location\"], human_text)\n",
    "\n",
    "print(\"Transcript: {}\".format(human_text))\n",
    "print(\"Answer: {}\".format(response.candidates[0].content.parts[0]))\n",
    "\n"
   ]
  },
  {
   "cell_type": "code",
   "execution_count": 3,
   "metadata": {},
   "outputs": [
    {
     "name": "stdout",
     "output_type": "stream",
     "text": [
      "<generator object _GenerativeModel._generate_content_streaming at 0x7fc73fed4900>\n"
     ]
    }
   ],
   "source": [
    "print(response)"
   ]
  },
  {
   "cell_type": "code",
   "execution_count": null,
   "metadata": {},
   "outputs": [],
   "source": []
  }
 ],
 "metadata": {
  "kernelspec": {
   "display_name": "Python 3",
   "language": "python",
   "name": "python3"
  },
  "language_info": {
   "codemirror_mode": {
    "name": "ipython",
    "version": 3
   },
   "file_extension": ".py",
   "mimetype": "text/x-python",
   "name": "python",
   "nbconvert_exporter": "python",
   "pygments_lexer": "ipython3",
   "version": "3.10.0"
  }
 },
 "nbformat": 4,
 "nbformat_minor": 2
}
