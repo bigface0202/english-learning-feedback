{
 "cells": [
  {
   "cell_type": "code",
   "execution_count": 5,
   "metadata": {},
   "outputs": [
    {
     "name": "stderr",
     "output_type": "stream",
     "text": [
      "WARNING: All log messages before absl::InitializeLog() is called are written to STDERR\n",
      "I0000 00:00:1723354289.821774    2075 check_gcp_environment.cc:61] BIOS data file does not exist or cannot be opened.\n"
     ]
    },
    {
     "name": "stdout",
     "output_type": "stream",
     "text": [
      "Transcript: how old is the Brooklyn Bridge\n"
     ]
    }
   ],
   "source": [
    "from google.cloud import speech\n",
    "\n",
    "client = speech.SpeechClient()\n",
    "\n",
    "gcs_uri = \"gs://cloud-samples-data/speech/brooklyn_bridge.raw\"\n",
    "\n",
    "audio = speech.RecognitionAudio(uri=gcs_uri)\n",
    "\n",
    "config = speech.RecognitionConfig(\n",
    "    encoding = speech.RecognitionConfig.AudioEncoding.LINEAR16,\n",
    "    sample_rate_hertz = 16000,\n",
    "    language_code=\"en-US\",\n",
    ")\n",
    "\n",
    "response = client.recognize(config = config, audio = audio)\n",
    "\n",
    "for result in response.results:\n",
    "    print(\"Transcript: {}\".format(result.alternatives[0].transcript))"
   ]
  },
  {
   "cell_type": "code",
   "execution_count": 7,
   "metadata": {},
   "outputs": [
    {
     "data": {
      "text/plain": [
       "1"
      ]
     },
     "execution_count": 7,
     "metadata": {},
     "output_type": "execute_result"
    }
   ],
   "source": [
    "len(response.results)"
   ]
  },
  {
   "cell_type": "markdown",
   "metadata": {},
   "source": [
    "## Using LangChain"
   ]
  },
  {
   "cell_type": "code",
   "execution_count": 2,
   "metadata": {},
   "outputs": [],
   "source": [
    "from langchain_core.messages import HumanMessage\n",
    "from langchain_google_genai import ChatGoogleGenerativeAI\n",
    "from google.generativeai.types.safety_types import HarmBlockThreshold, HarmCategory\n",
    "import json"
   ]
  },
  {
   "cell_type": "markdown",
   "metadata": {},
   "source": [
    "## Using VertexAI"
   ]
  },
  {
   "cell_type": "code",
   "execution_count": 4,
   "metadata": {},
   "outputs": [],
   "source": [
    "import vertexai\n",
    "from vertexai.generative_models import GenerativeModel, Part\n",
    "import json\n",
    "from google.cloud import speech"
   ]
  },
  {
   "cell_type": "code",
   "execution_count": 24,
   "metadata": {},
   "outputs": [
    {
     "name": "stdout",
     "output_type": "stream",
     "text": [
      "Transcript: how old is the Brooklyn Bridge\n",
      "Answer: text: \"The Brooklyn Bridge was completed in **1883**, so it\\'s currently **140 years old** (as of 2023). \\n\"\n",
      "\n"
     ]
    }
   ],
   "source": [
    "with open(\"environments/env.json\") as f:\n",
    "    env = json.load(f)\n",
    "\n",
    "client = speech.SpeechClient()\n",
    "gcs_uri = env[\"sample_audio_file\"]\n",
    "audio = speech.RecognitionAudio(uri=gcs_uri)\n",
    "\n",
    "config = speech.RecognitionConfig(\n",
    "    encoding = speech.RecognitionConfig.AudioEncoding.LINEAR16,\n",
    "    sample_rate_hertz = 16000,\n",
    "    language_code=\"en-US\",\n",
    ")\n",
    "\n",
    "s2t_response = client.recognize(config = config, audio = audio)\n",
    "\n",
    "vertexai.init(project = env[\"project_id\"], location=env[\"location\"])\n",
    "multimodal_model = GenerativeModel(\"gemini-1.5-flash-001\")\n",
    "for result in s2t_response.results:\n",
    "    response = multimodal_model.generate_content(\n",
    "        [\n",
    "            result.alternatives[0].transcript\n",
    "        ]\n",
    "    )\n",
    "    print(\"Transcript: {}\".format(result.alternatives[0].transcript))\n",
    "    print(\"Answer: {}\".format(response.candidates[0].content.parts[0]))"
   ]
  },
  {
   "cell_type": "code",
   "execution_count": 4,
   "metadata": {},
   "outputs": [
    {
     "name": "stderr",
     "output_type": "stream",
     "text": [
      "WARNING: All log messages before absl::InitializeLog() is called are written to STDERR\n",
      "I0000 00:00:1723443168.305417   26301 check_gcp_environment.cc:61] BIOS data file does not exist or cannot be opened.\n"
     ]
    },
    {
     "name": "stdout",
     "output_type": "stream",
     "text": [
      "Transcript: I'm Yusuke, and living in Tokyo, and working as IT engineer at the company.\n",
      "In my free time, I like to go to gym to workout, watching Netfilx, go hiking, and playing video game.\n",
      "Thank you, and nice to meet you.\n",
      "Answer: text: \"Let\\'s take a look at your introduction and make it even better! \\n\\n**Uncorrected Sentence:** I\\'m Yusuke, and living in Tokyo, and working as IT engineer at the company.\\n\\n**Correction:** I\\'m Yusuke, and I live in Tokyo. I work as an IT engineer at [Name of Company].\\n\\n**Uncorrected Sentence:** In my free time, I like to go to gym to workout, watching Netfilx, go hiking, and playing video game.\\n\\n**Correction:**  In my free time, I enjoy going to the gym to work out, watching Netflix, hiking, and playing video games.\\n\\n**Recommended Phrases:** \\n\\n1. **Instead of \\\"Thank you, and nice to meet you,\\\" try:**  \\\"It\\'s a pleasure to meet you!\\\"\\n2. **To add a touch of personality:**  \\\"I\\'m really enjoying life in Tokyo.\\\" \\n3. **To emphasize your interests:** \\\"I\\'m particularly passionate about [mention a specific interest, e.g., hiking in the mountains].\\\"\\n\\n**Revised Introduction:** \\n\\n\\\"Hi, I\\'m Yusuke. I live in Tokyo and work as an IT engineer at [Name of Company]. In my free time, I enjoy going to the gym to work out, watching Netflix, hiking, and playing video games.  It\\'s a pleasure to meet you!\\\" \\n\\nThis revised introduction is more natural-sounding, grammatically correct, and gives the reader a better understanding of who you are and what you enjoy. \\n\"\n",
      "\n"
     ]
    }
   ],
   "source": [
    "import base64\n",
    "import vertexai\n",
    "from vertexai.generative_models import GenerativeModel, Part, SafetySetting, FinishReason\n",
    "import vertexai.preview.generative_models as generative_models\n",
    "import json\n",
    "\n",
    "def generate(project_id, location, human_text):\n",
    "    vertexai.init(project=project_id, location=location)\n",
    "    safety_settings = [\n",
    "        SafetySetting(\n",
    "            category=SafetySetting.HarmCategory.HARM_CATEGORY_HATE_SPEECH,\n",
    "            threshold=SafetySetting.HarmBlockThreshold.BLOCK_MEDIUM_AND_ABOVE\n",
    "        ),\n",
    "        SafetySetting(\n",
    "            category=SafetySetting.HarmCategory.HARM_CATEGORY_DANGEROUS_CONTENT,\n",
    "            threshold=SafetySetting.HarmBlockThreshold.BLOCK_MEDIUM_AND_ABOVE\n",
    "        ),\n",
    "        SafetySetting(\n",
    "            category=SafetySetting.HarmCategory.HARM_CATEGORY_SEXUALLY_EXPLICIT,\n",
    "            threshold=SafetySetting.HarmBlockThreshold.BLOCK_MEDIUM_AND_ABOVE\n",
    "        ),\n",
    "        SafetySetting(\n",
    "            category=SafetySetting.HarmCategory.HARM_CATEGORY_HARASSMENT,\n",
    "            threshold=SafetySetting.HarmBlockThreshold.BLOCK_MEDIUM_AND_ABOVE\n",
    "        ),\n",
    "    ]\n",
    "    instrcution = \"\"\"\n",
    "            ## Condition\n",
    "            - You are English professional teacher. \n",
    "            - Point out uncorrect word and grammer.\n",
    "            - Generate three to five recommended useful phrase instead of unnatural tone.\n",
    "            \"\"\"\n",
    "    generation_config = {\n",
    "        \"max_output_tokens\": 8192,\n",
    "        \"temperature\": 1,\n",
    "        \"top_p\": 0.95,\n",
    "    }\n",
    "\n",
    "    model = GenerativeModel(\n",
    "        \"gemini-1.5-flash-001\",\n",
    "        system_instruction=[instrcution]\n",
    "    )\n",
    "    response = model.generate_content(\n",
    "        [\n",
    "            human_text\n",
    "        ],\n",
    "        generation_config=generation_config,\n",
    "        safety_settings=safety_settings,\n",
    "        stream=False,\n",
    "    )\n",
    "\n",
    "    return response\n",
    "\n",
    "with open(\"environments/env.json\") as f:\n",
    "    env = json.load(f)\n",
    "\n",
    "human_text = \"\"\"I'm Yusuke, and living in Tokyo, and working as IT engineer at the company.\n",
    "In my free time, I like to go to gym to workout, watching Netfilx, go hiking, and playing video game.\n",
    "Thank you, and nice to meet you.\"\"\"\n",
    "\n",
    "response = generate(env[\"project_id\"], env[\"location\"], human_text)\n",
    "\n",
    "print(\"Transcript: {}\".format(human_text))\n",
    "print(\"Answer: {}\".format(response.candidates[0].content.parts[0]))\n",
    "\n"
   ]
  },
  {
   "cell_type": "code",
   "execution_count": 7,
   "metadata": {},
   "outputs": [
    {
     "name": "stdout",
     "output_type": "stream",
     "text": [
      "[content {\n",
      "  role: \"model\"\n",
      "  parts {\n",
      "    text: \"Let\\'s take a look at your introduction and make it even better! \\n\\n**Uncorrected Sentence:** I\\'m Yusuke, and living in Tokyo, and working as IT engineer at the company.\\n\\n**Correction:** I\\'m Yusuke, and I live in Tokyo. I work as an IT engineer at [Name of Company].\\n\\n**Uncorrected Sentence:** In my free time, I like to go to gym to workout, watching Netfilx, go hiking, and playing video game.\\n\\n**Correction:**  In my free time, I enjoy going to the gym to work out, watching Netflix, hiking, and playing video games.\\n\\n**Recommended Phrases:** \\n\\n1. **Instead of \\\"Thank you, and nice to meet you,\\\" try:**  \\\"It\\'s a pleasure to meet you!\\\"\\n2. **To add a touch of personality:**  \\\"I\\'m really enjoying life in Tokyo.\\\" \\n3. **To emphasize your interests:** \\\"I\\'m particularly passionate about [mention a specific interest, e.g., hiking in the mountains].\\\"\\n\\n**Revised Introduction:** \\n\\n\\\"Hi, I\\'m Yusuke. I live in Tokyo and work as an IT engineer at [Name of Company]. In my free time, I enjoy going to the gym to work out, watching Netflix, hiking, and playing video games.  It\\'s a pleasure to meet you!\\\" \\n\\nThis revised introduction is more natural-sounding, grammatically correct, and gives the reader a better understanding of who you are and what you enjoy. \\n\"\n",
      "  }\n",
      "}\n",
      "finish_reason: STOP\n",
      "safety_ratings {\n",
      "  category: HARM_CATEGORY_HATE_SPEECH\n",
      "  probability: NEGLIGIBLE\n",
      "  probability_score: 0.0728550255\n",
      "  severity: HARM_SEVERITY_NEGLIGIBLE\n",
      "  severity_score: 0.0526147075\n",
      "}\n",
      "safety_ratings {\n",
      "  category: HARM_CATEGORY_DANGEROUS_CONTENT\n",
      "  probability: NEGLIGIBLE\n",
      "  probability_score: 0.0580205135\n",
      "  severity: HARM_SEVERITY_NEGLIGIBLE\n",
      "  severity_score: 0.0423872396\n",
      "}\n",
      "safety_ratings {\n",
      "  category: HARM_CATEGORY_HARASSMENT\n",
      "  probability: NEGLIGIBLE\n",
      "  probability_score: 0.139686704\n",
      "  severity: HARM_SEVERITY_NEGLIGIBLE\n",
      "  severity_score: 0.0583680868\n",
      "}\n",
      "safety_ratings {\n",
      "  category: HARM_CATEGORY_SEXUALLY_EXPLICIT\n",
      "  probability: NEGLIGIBLE\n",
      "  probability_score: 0.190615833\n",
      "  severity: HARM_SEVERITY_NEGLIGIBLE\n",
      "  severity_score: 0.0865110233\n",
      "}\n",
      "]\n"
     ]
    }
   ],
   "source": [
    "print(response.candidates)"
   ]
  },
  {
   "cell_type": "code",
   "execution_count": 8,
   "metadata": {},
   "outputs": [
    {
     "name": "stdout",
     "output_type": "stream",
     "text": [
      "Let's take a look at your introduction and make it even better! \n",
      "\n",
      "**Uncorrected Sentence:** I'm Yusuke, and living in Tokyo, and working as IT engineer at the company.\n",
      "\n",
      "**Correction:** I'm Yusuke, and I live in Tokyo. I work as an IT engineer at [Name of Company].\n",
      "\n",
      "**Uncorrected Sentence:** In my free time, I like to go to gym to workout, watching Netfilx, go hiking, and playing video game.\n",
      "\n",
      "**Correction:**  In my free time, I enjoy going to the gym to work out, watching Netflix, hiking, and playing video games.\n",
      "\n",
      "**Recommended Phrases:** \n",
      "\n",
      "1. **Instead of \"Thank you, and nice to meet you,\" try:**  \"It's a pleasure to meet you!\"\n",
      "2. **To add a touch of personality:**  \"I'm really enjoying life in Tokyo.\" \n",
      "3. **To emphasize your interests:** \"I'm particularly passionate about [mention a specific interest, e.g., hiking in the mountains].\"\n",
      "\n",
      "**Revised Introduction:** \n",
      "\n",
      "\"Hi, I'm Yusuke. I live in Tokyo and work as an IT engineer at [Name of Company]. In my free time, I enjoy going to the gym to work out, watching Netflix, hiking, and playing video games.  It's a pleasure to meet you!\" \n",
      "\n",
      "This revised introduction is more natural-sounding, grammatically correct, and gives the reader a better understanding of who you are and what you enjoy. \n",
      "\n"
     ]
    }
   ],
   "source": [
    "print(response.candidates[0].content.parts[0].text)"
   ]
  },
  {
   "cell_type": "code",
   "execution_count": 3,
   "metadata": {},
   "outputs": [],
   "source": [
    "test2 = test[-6:]"
   ]
  },
  {
   "cell_type": "code",
   "execution_count": null,
   "metadata": {},
   "outputs": [],
   "source": []
  }
 ],
 "metadata": {
  "kernelspec": {
   "display_name": "Python 3",
   "language": "python",
   "name": "python3"
  },
  "language_info": {
   "codemirror_mode": {
    "name": "ipython",
    "version": 3
   },
   "file_extension": ".py",
   "mimetype": "text/x-python",
   "name": "python",
   "nbconvert_exporter": "python",
   "pygments_lexer": "ipython3",
   "version": "3.10.0"
  }
 },
 "nbformat": 4,
 "nbformat_minor": 2
}
