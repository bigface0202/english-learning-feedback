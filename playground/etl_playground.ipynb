{
 "cells": [
  {
   "cell_type": "code",
   "execution_count": 1,
   "metadata": {},
   "outputs": [
    {
     "name": "stdout",
     "output_type": "stream",
     "text": [
      "00:00 Teacher Hello.\n",
      "00:02 Student Hi.\n",
      "00:04 Teacher Hello.\n",
      "00:06 Student Hi.\n",
      "00:08 Teacher Uh can you hear me and see me?\n",
      "00:13 Student Yeah, I can hear you but I can, I can't see you.\n",
      "00:20 Teacher Oh okay. Uh one second.\n",
      "00:25 Student Okay.\n",
      "00:27 Teacher Can you see me now?\n",
      "00:30 Student Yeah, that's fine. Yeah, I'm okay.\n",
      "00:34 Teacher Alright, how are you this day?\n",
      "00:38 Student Yeah, I'm, I'm good and uh, yeah, sorry, I am good, yes.\n",
      "00:46 Teacher Okay, that's good. Uh do you want to start with self-introduction?\n",
      "00:52 Student Yes, uh let me introduce myself briefly.\n",
      "00:57 Teacher Okay.\n",
      "01:01 Student Okay, uh my name is Yusuke and now I'm 31 years old, and I'm living in Tokyo and working at the company as an IT engineer, and uh in my free time, I like to go to gym, to workout, uh watching Netflix, go to uh go hiking, and uh playing video games. So, that's my introduction. Nice to meet you.\n",
      "01:54 Teacher Thank you, nice to meet you too, thanks for sharing. Um okay, well, uh my name is Rae. Uh I live in Cairo, Egypt, and uh I teach English full-time. Uh in my free time, I like to uh read books, listen to podcasts, and watch movies and TV shows and things like that.\n",
      "02:47 Teacher Mhm. That's all, thank you.\n",
      "02:52 Student Thank you, too, and nice to meet you again.\n",
      "02:59 Teacher Thank you. Um okay, so let's begin with the lesson you chose. What do you want to  uh, focus on today?\n",
      "03:18 Student Mhm.\n",
      "03:20 Student Okay, I will choose the, this one.\n",
      "03:36 Teacher Okay, nice topic.\n",
      "03:40 Student Thank you.\n",
      "03:44 Teacher Um, alright, so let's see. We first one, we want to choose or decide whether you agree or disagree with the statement, and then explain why. Okay?\n",
      "04:02 Student Okay. So,\n",
      "04:05 Teacher First one, \"Age restrictions should be placed on social media sites.\" \n",
      "04:13 Student Well, yeah, I agree with this uh opinion, because uh, uh because of social media sites and the application or applications are very addictive for the \n",
      "04:41 Student People. So, kids and uh, children uh cannot uh stop to watch the, the application every time. So, at least I think we need the, like uh time restrictions uh to watch the, and watch on those application.\n",
      "05:21 Teacher Okay. Yes, I agree. So, social media sites are addictive. Yes, that's true, and so children and adults Mhm. I think both, right? They, you said both, Yeah. children and adults, yeah, can't seem to stop using them.\n",
      "05:51 Student Yeah, that's right, yes.\n",
      "05:53 Teacher Every people cannot stop to watch. \n",
      "06:02 Student Yes.\n",
      "06:06 Teacher Okay, very good. Well, what do you think about the next one? \"Age should be \n",
      "\n"
     ]
    }
   ],
   "source": [
    "with open(\"assets/output.txt\", \"r\", encoding=\"utf-8\") as file:\n",
    "  data = file.read()\n",
    "\n",
    "print(data)"
   ]
  },
  {
   "cell_type": "code",
   "execution_count": 4,
   "metadata": {},
   "outputs": [
    {
     "name": "stdout",
     "output_type": "stream",
     "text": [
      "{'timestamp': '00:00', 'speaker': 'Teacher', 'message': 'Hello.'}\n",
      "{'timestamp': '00:02', 'speaker': 'Student', 'message': 'Hi.'}\n",
      "{'timestamp': '00:04', 'speaker': 'Teacher', 'message': 'Hello.'}\n",
      "{'timestamp': '00:06', 'speaker': 'Student', 'message': 'Hi.'}\n",
      "{'timestamp': '00:08', 'speaker': 'Teacher', 'message': 'Uh can you hear me and see me?'}\n",
      "{'timestamp': '00:13', 'speaker': 'Student', 'message': \"Yeah, I can hear you but I can, I can't see you.\"}\n",
      "{'timestamp': '00:20', 'speaker': 'Teacher', 'message': 'Oh okay. Uh one second.'}\n",
      "{'timestamp': '00:25', 'speaker': 'Student', 'message': 'Okay.'}\n",
      "{'timestamp': '00:27', 'speaker': 'Teacher', 'message': 'Can you see me now?'}\n",
      "{'timestamp': '00:30', 'speaker': 'Student', 'message': \"Yeah, that's fine. Yeah, I'm okay.\"}\n",
      "{'timestamp': '00:34', 'speaker': 'Teacher', 'message': 'Alright, how are you this day?'}\n",
      "{'timestamp': '00:38', 'speaker': 'Student', 'message': \"Yeah, I'm, I'm good and uh, yeah, sorry, I am good, yes.\"}\n",
      "{'timestamp': '00:46', 'speaker': 'Teacher', 'message': \"Okay, that's good. Uh do you want to start with self-introduction?\"}\n",
      "{'timestamp': '00:52', 'speaker': 'Student', 'message': 'Yes, uh let me introduce myself briefly.'}\n",
      "{'timestamp': '00:57', 'speaker': 'Teacher', 'message': 'Okay.'}\n",
      "{'timestamp': '01:01', 'speaker': 'Student', 'message': \"Okay, uh my name is Yusuke and now I'm 31 years old, and I'm living in Tokyo and working at the company as an IT engineer, and uh in my free time, I like to go to gym, to workout, uh watching Netflix, go to uh go hiking, and uh playing video games. So, that's my introduction. Nice to meet you.\"}\n",
      "{'timestamp': '01:54', 'speaker': 'Teacher', 'message': 'Thank you, nice to meet you too, thanks for sharing. Um okay, well, uh my name is Rae. Uh I live in Cairo, Egypt, and uh I teach English full-time. Uh in my free time, I like to uh read books, listen to podcasts, and watch movies and TV shows and things like that.'}\n",
      "{'timestamp': '02:47', 'speaker': 'Teacher', 'message': \"Mhm. That's all, thank you.\"}\n",
      "{'timestamp': '02:52', 'speaker': 'Student', 'message': 'Thank you, too, and nice to meet you again.'}\n",
      "{'timestamp': '02:59', 'speaker': 'Teacher', 'message': \"Thank you. Um okay, so let's begin with the lesson you chose. What do you want to  uh, focus on today?\"}\n",
      "{'timestamp': '03:18', 'speaker': 'Student', 'message': 'Mhm.'}\n",
      "{'timestamp': '03:20', 'speaker': 'Student', 'message': 'Okay, I will choose the, this one.'}\n",
      "{'timestamp': '03:36', 'speaker': 'Teacher', 'message': 'Okay, nice topic.'}\n",
      "{'timestamp': '03:40', 'speaker': 'Student', 'message': 'Thank you.'}\n",
      "{'timestamp': '03:44', 'speaker': 'Teacher', 'message': \"Um, alright, so let's see. We first one, we want to choose or decide whether you agree or disagree with the statement, and then explain why. Okay?\"}\n",
      "{'timestamp': '04:02', 'speaker': 'Student', 'message': 'Okay. So,'}\n",
      "{'timestamp': '04:05', 'speaker': 'Teacher', 'message': 'First one, \"Age restrictions should be placed on social media sites.\"'}\n",
      "{'timestamp': '04:13', 'speaker': 'Student', 'message': 'Well, yeah, I agree with this uh opinion, because uh, uh because of social media sites and the application or applications are very addictive for the'}\n",
      "{'timestamp': '04:41', 'speaker': 'Student', 'message': 'People. So, kids and uh, children uh cannot uh stop to watch the, the application every time. So, at least I think we need the, like uh time restrictions uh to watch the, and watch on those application.'}\n",
      "{'timestamp': '05:21', 'speaker': 'Teacher', 'message': \"Okay. Yes, I agree. So, social media sites are addictive. Yes, that's true, and so children and adults Mhm. I think both, right? They, you said both, Yeah. children and adults, yeah, can't seem to stop using them.\"}\n",
      "{'timestamp': '05:51', 'speaker': 'Student', 'message': \"Yeah, that's right, yes.\"}\n",
      "{'timestamp': '05:53', 'speaker': 'Teacher', 'message': 'Every people cannot stop to watch.'}\n",
      "{'timestamp': '06:02', 'speaker': 'Student', 'message': 'Yes.'}\n",
      "{'timestamp': '06:06', 'speaker': 'Teacher', 'message': 'Okay, very good. Well, what do you think about the next one? \"Age should be'}\n"
     ]
    }
   ],
   "source": [
    "import re\n",
    "\n",
    "from typing import List\n",
    "\n",
    "def parse_conversation(text:str) -> List[object]:\n",
    "    conversation = []\n",
    "    lines = text.strip().split(\"\\n\")\n",
    "\n",
    "    for line in lines:\n",
    "        match = re.match(r\"(\\d{2}:\\d{2})\\s+(Teacher|Student)\\s+(.*)\", line)\n",
    "        if match:\n",
    "            timestamp, speaker, message = match.groups()\n",
    "            conversation.append({\n",
    "                \"timestamp\": timestamp,\n",
    "                \"speaker\": speaker,\n",
    "                \"message\": message.strip()\n",
    "            })\n",
    "\n",
    "    return conversation\n",
    "\n",
    "parsed_data = parse_conversation(data)\n",
    "for entry in parsed_data:\n",
    "    print(entry)"
   ]
  },
  {
   "cell_type": "code",
   "execution_count": 11,
   "metadata": {},
   "outputs": [],
   "source": [
    "def count_words_by_speaker(conversation:List[object]) -> tuple[object, object]:\n",
    "    teacher_word_count = {}\n",
    "    student_word_count = {}\n",
    "\n",
    "    for entry in conversation:\n",
    "        speaker = entry[\"speaker\"]\n",
    "        message = entry[\"message\"]\n",
    "\n",
    "        message = re.sub(r'[?.,!]', '', message)\n",
    "        words = message.split()\n",
    "\n",
    "        if speaker == \"Teacher\":\n",
    "            for word in words:\n",
    "                if word in teacher_word_count:\n",
    "                    teacher_word_count[word] += 1\n",
    "                else:\n",
    "                    teacher_word_count[word] = 1\n",
    "        else:\n",
    "            for word in words:\n",
    "                if word in student_word_count:\n",
    "                    student_word_count[word] += 1\n",
    "                else:\n",
    "                    student_word_count[word] = 1\n",
    "    return teacher_word_count, student_word_count\n",
    "\n",
    "teacher_word_count, student_word_count = count_words_by_speaker(parsed_data)"
   ]
  },
  {
   "cell_type": "code",
   "execution_count": null,
   "metadata": {},
   "outputs": [],
   "source": []
  }
 ],
 "metadata": {
  "kernelspec": {
   "display_name": "english-learning-feedback-fA0V7lh2-py3.10",
   "language": "python",
   "name": "python3"
  },
  "language_info": {
   "codemirror_mode": {
    "name": "ipython",
    "version": 3
   },
   "file_extension": ".py",
   "mimetype": "text/x-python",
   "name": "python",
   "nbconvert_exporter": "python",
   "pygments_lexer": "ipython3",
   "version": "3.10.0"
  }
 },
 "nbformat": 4,
 "nbformat_minor": 2
}
